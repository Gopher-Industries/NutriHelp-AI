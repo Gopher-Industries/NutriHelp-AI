{
 "cells": [
  {
   "cell_type": "markdown",
   "metadata": {},
   "source": [
    "## Import Libraries and Data"
   ]
  },
  {
   "cell_type": "code",
   "execution_count": 1,
   "metadata": {},
   "outputs": [],
   "source": [
    "# Data Analysis and Wrangling\n",
    "import pandas as pd\n",
    "import numpy as np\n",
    "\n",
    "# Data Preprocessing\n",
    "from sklearn.preprocessing import StandardScaler, OneHotEncoder\n",
    "from sklearn.compose import ColumnTransformer\n",
    "from sklearn.pipeline import Pipeline\n",
    "from sklearn.model_selection import train_test_split\n",
    "from sklearn.preprocessing import LabelEncoder\n",
    "\n",
    "\n",
    "# Visualization\n",
    "import seaborn as sns\n",
    "import matplotlib.pyplot as plt\n",
    "from sklearn.metrics import confusion_matrix, ConfusionMatrixDisplay\n",
    "\n",
    "\n",
    "# Deep Learning Libraries\n",
    "from tensorflow.keras.models import Sequential, load_model, Model\n",
    "from tensorflow.keras.layers import Dense, BatchNormalization, Dropout, Input, Add, Concatenate, LeakyReLU\n",
    "from tensorflow.keras.optimizers import Adam, RMSprop\n",
    "from tensorflow.keras.callbacks import EarlyStopping\n",
    "from tensorflow.keras.initializers import HeUniform\n",
    "from tensorflow.keras.utils import to_categorical\n",
    "from tensorflow.keras.optimizers.schedules import ExponentialDecay\n",
    "from tensorflow.keras.metrics import F1Score\n",
    "\n",
    "# File Handling\n",
    "import joblib\n",
    "\n",
    "\n"
   ]
  },
  {
   "cell_type": "markdown",
   "metadata": {},
   "source": [
    "## Preprocessing\n",
    "In the preprocessing step, we define the categorical and numerical columns that we intend to process further.\n",
    "\n",
    "- **Target column**: The **obesity category (NObeyesdad)** is the target feature we want to predict in this case (e.g., normal weight, overweight level I, etc.).\n",
    "\n",
    "- **Categorical features**: We apply **one-hot encoding** including target column (by using <code>to_categorical</code>) instead of label encoding since deep learning models are capable of handling high-dimensional data efficiently.\n",
    "\n",
    "- **Numerical features**: We apply **standardization** by subtracting the mean and dividing by the standard deviation for each feature. This ensures that no single feature disproportionately influences the model due to scale differences.\n",
    "\n",
    "Finally, we split the dataset into a **20% test set**, **~10% validation set** and an **~70% training set**, which is a typical ratio used in machine learning."
   ]
  },
  {
   "cell_type": "code",
   "execution_count": 2,
   "metadata": {},
   "outputs": [
    {
     "name": "stdout",
     "output_type": "stream",
     "text": [
      "Sample size: 20758, Data shape: (20758, 17)\n"
     ]
    },
    {
     "data": {
      "text/html": [
       "<div>\n",
       "<style scoped>\n",
       "    .dataframe tbody tr th:only-of-type {\n",
       "        vertical-align: middle;\n",
       "    }\n",
       "\n",
       "    .dataframe tbody tr th {\n",
       "        vertical-align: top;\n",
       "    }\n",
       "\n",
       "    .dataframe thead th {\n",
       "        text-align: right;\n",
       "    }\n",
       "</style>\n",
       "<table border=\"1\" class=\"dataframe\">\n",
       "  <thead>\n",
       "    <tr style=\"text-align: right;\">\n",
       "      <th></th>\n",
       "      <th>Gender</th>\n",
       "      <th>Age</th>\n",
       "      <th>Height</th>\n",
       "      <th>Weight</th>\n",
       "      <th>family_history_with_overweight</th>\n",
       "      <th>FAVC</th>\n",
       "      <th>FCVC</th>\n",
       "      <th>NCP</th>\n",
       "      <th>CAEC</th>\n",
       "      <th>SMOKE</th>\n",
       "      <th>CH2O</th>\n",
       "      <th>SCC</th>\n",
       "      <th>FAF</th>\n",
       "      <th>TUE</th>\n",
       "      <th>CALC</th>\n",
       "      <th>MTRANS</th>\n",
       "      <th>NObeyesdad</th>\n",
       "    </tr>\n",
       "  </thead>\n",
       "  <tbody>\n",
       "    <tr>\n",
       "      <th>0</th>\n",
       "      <td>Male</td>\n",
       "      <td>24.443011</td>\n",
       "      <td>1.699998</td>\n",
       "      <td>81.669950</td>\n",
       "      <td>yes</td>\n",
       "      <td>yes</td>\n",
       "      <td>2.000000</td>\n",
       "      <td>2.983297</td>\n",
       "      <td>Sometimes</td>\n",
       "      <td>no</td>\n",
       "      <td>2.763573</td>\n",
       "      <td>no</td>\n",
       "      <td>0.000000</td>\n",
       "      <td>0.976473</td>\n",
       "      <td>Sometimes</td>\n",
       "      <td>Public_Transportation</td>\n",
       "      <td>Overweight_Level_II</td>\n",
       "    </tr>\n",
       "    <tr>\n",
       "      <th>1</th>\n",
       "      <td>Female</td>\n",
       "      <td>18.000000</td>\n",
       "      <td>1.560000</td>\n",
       "      <td>57.000000</td>\n",
       "      <td>yes</td>\n",
       "      <td>yes</td>\n",
       "      <td>2.000000</td>\n",
       "      <td>3.000000</td>\n",
       "      <td>Frequently</td>\n",
       "      <td>no</td>\n",
       "      <td>2.000000</td>\n",
       "      <td>no</td>\n",
       "      <td>1.000000</td>\n",
       "      <td>1.000000</td>\n",
       "      <td>no</td>\n",
       "      <td>Automobile</td>\n",
       "      <td>Normal_Weight</td>\n",
       "    </tr>\n",
       "    <tr>\n",
       "      <th>2</th>\n",
       "      <td>Female</td>\n",
       "      <td>18.000000</td>\n",
       "      <td>1.711460</td>\n",
       "      <td>50.165754</td>\n",
       "      <td>yes</td>\n",
       "      <td>yes</td>\n",
       "      <td>1.880534</td>\n",
       "      <td>1.411685</td>\n",
       "      <td>Sometimes</td>\n",
       "      <td>no</td>\n",
       "      <td>1.910378</td>\n",
       "      <td>no</td>\n",
       "      <td>0.866045</td>\n",
       "      <td>1.673584</td>\n",
       "      <td>no</td>\n",
       "      <td>Public_Transportation</td>\n",
       "      <td>Insufficient_Weight</td>\n",
       "    </tr>\n",
       "    <tr>\n",
       "      <th>3</th>\n",
       "      <td>Female</td>\n",
       "      <td>20.952737</td>\n",
       "      <td>1.710730</td>\n",
       "      <td>131.274851</td>\n",
       "      <td>yes</td>\n",
       "      <td>yes</td>\n",
       "      <td>3.000000</td>\n",
       "      <td>3.000000</td>\n",
       "      <td>Sometimes</td>\n",
       "      <td>no</td>\n",
       "      <td>1.674061</td>\n",
       "      <td>no</td>\n",
       "      <td>1.467863</td>\n",
       "      <td>0.780199</td>\n",
       "      <td>Sometimes</td>\n",
       "      <td>Public_Transportation</td>\n",
       "      <td>Obesity_Type_III</td>\n",
       "    </tr>\n",
       "    <tr>\n",
       "      <th>4</th>\n",
       "      <td>Male</td>\n",
       "      <td>31.641081</td>\n",
       "      <td>1.914186</td>\n",
       "      <td>93.798055</td>\n",
       "      <td>yes</td>\n",
       "      <td>yes</td>\n",
       "      <td>2.679664</td>\n",
       "      <td>1.971472</td>\n",
       "      <td>Sometimes</td>\n",
       "      <td>no</td>\n",
       "      <td>1.979848</td>\n",
       "      <td>no</td>\n",
       "      <td>1.967973</td>\n",
       "      <td>0.931721</td>\n",
       "      <td>Sometimes</td>\n",
       "      <td>Public_Transportation</td>\n",
       "      <td>Overweight_Level_II</td>\n",
       "    </tr>\n",
       "  </tbody>\n",
       "</table>\n",
       "</div>"
      ],
      "text/plain": [
       "   Gender        Age    Height      Weight family_history_with_overweight   \n",
       "0    Male  24.443011  1.699998   81.669950                            yes  \\\n",
       "1  Female  18.000000  1.560000   57.000000                            yes   \n",
       "2  Female  18.000000  1.711460   50.165754                            yes   \n",
       "3  Female  20.952737  1.710730  131.274851                            yes   \n",
       "4    Male  31.641081  1.914186   93.798055                            yes   \n",
       "\n",
       "  FAVC      FCVC       NCP        CAEC SMOKE      CH2O SCC       FAF   \n",
       "0  yes  2.000000  2.983297   Sometimes    no  2.763573  no  0.000000  \\\n",
       "1  yes  2.000000  3.000000  Frequently    no  2.000000  no  1.000000   \n",
       "2  yes  1.880534  1.411685   Sometimes    no  1.910378  no  0.866045   \n",
       "3  yes  3.000000  3.000000   Sometimes    no  1.674061  no  1.467863   \n",
       "4  yes  2.679664  1.971472   Sometimes    no  1.979848  no  1.967973   \n",
       "\n",
       "        TUE       CALC                 MTRANS           NObeyesdad  \n",
       "0  0.976473  Sometimes  Public_Transportation  Overweight_Level_II  \n",
       "1  1.000000         no             Automobile        Normal_Weight  \n",
       "2  1.673584         no  Public_Transportation  Insufficient_Weight  \n",
       "3  0.780199  Sometimes  Public_Transportation     Obesity_Type_III  \n",
       "4  0.931721  Sometimes  Public_Transportation  Overweight_Level_II  "
      ]
     },
     "execution_count": 2,
     "metadata": {},
     "output_type": "execute_result"
    }
   ],
   "source": [
    "DATA_PATH = 'data/train.csv'\n",
    "\n",
    "df = pd.read_csv(DATA_PATH)\n",
    "df = df.drop('id', axis=1)\n",
    "print(f'Sample size: {len(df)}, Data shape: {df.shape}')\n",
    "df.head()\n"
   ]
  },
  {
   "cell_type": "code",
   "execution_count": null,
   "metadata": {},
   "outputs": [],
   "source": [
    "def preprocess_data(df, target_column='NObeyesdad', mode='train', encoder_path=None, label_encoder_path=None):\n",
    "    categorical_columns = ['Gender', 'family_history_with_overweight', 'FAVC', 'CAEC', 'SMOKE', 'SCC', 'CALC', 'MTRANS']\n",
    "    numerical_columns = ['Age', 'Height', 'Weight', 'FCVC', 'NCP', 'CH2O', 'FAF', 'TUE']\n",
    "    \n",
    "    numerical_pipeline = Pipeline([('scaler', StandardScaler())])\n",
    "    categorical_pipeline = Pipeline([('onehot', OneHotEncoder(sparse_output=False, handle_unknown='ignore'))])\n",
    "    \n",
    "    preprocessor = ColumnTransformer(transformers=[\n",
    "        ('num', numerical_pipeline, numerical_columns),\n",
    "        ('cat', categorical_pipeline, categorical_columns)\n",
    "    ])\n",
    "\n",
    "    if mode == 'train':\n",
    "        if target_column in df.columns:\n",
    "            le = LabelEncoder()\n",
    "            y = le.fit_transform(df[target_column])\n",
    "            y = to_categorical(y, num_classes=len(le.classes_))\n",
    "            X = df.drop(target_column, axis=1)\n",
    "            print(f'🎯 Target: {target_column} | Classes: {le.classes_}')\n",
    "\n",
    "            # Fit and transform\n",
    "            X_transformed = preprocessor.fit_transform(X)\n",
    "\n",
    "            # Show classes per categorical feature\n",
    "            ohe = preprocessor.named_transformers_['cat'].named_steps['onehot']\n",
    "            for feature, categories in zip(categorical_columns, ohe.categories_):\n",
    "                print(f'📊 Feature: {feature} | Classes: {list(categories)}')\n",
    "\n",
    "            # Save the preprocessor and label encoder\n",
    "            joblib.dump(preprocessor, encoder_path)\n",
    "            joblib.dump(le, label_encoder_path)\n",
    "        else:\n",
    "            y = None\n",
    "            X = df\n",
    "            X_transformed = preprocessor.fit_transform(X)\n",
    "            joblib.dump(preprocessor, encoder_path)\n",
    "    else:\n",
    "        # Load the saved preprocessor and label encoder\n",
    "        preprocessor = joblib.load(encoder_path)\n",
    "        le = joblib.load(label_encoder_path)\n",
    "        y = None if target_column not in df.columns else to_categorical(le.transform(df[target_column]), num_classes=len(le.classes_))\n",
    "        X = df.drop(target_column, axis=1) if target_column in df.columns else df\n",
    "        X_transformed = preprocessor.transform(X)\n",
    "\n",
    "    return (X_transformed, y, le) if target_column in df.columns else (X_transformed)"
   ]
  },
  {
   "cell_type": "code",
   "execution_count": 4,
   "metadata": {},
   "outputs": [
    {
     "name": "stdout",
     "output_type": "stream",
     "text": [
      "🎯 Target: NObeyesdad | Classes: ['Insufficient_Weight' 'Normal_Weight' 'Obesity_Type_I' 'Obesity_Type_II'\n",
      " 'Obesity_Type_III' 'Overweight_Level_I' 'Overweight_Level_II']\n",
      "📊 Feature: Gender | Classes: ['Female', 'Male']\n",
      "📊 Feature: family_history_with_overweight | Classes: ['no', 'yes']\n",
      "📊 Feature: FAVC | Classes: ['no', 'yes']\n",
      "📊 Feature: CAEC | Classes: ['Always', 'Frequently', 'Sometimes', 'no']\n",
      "📊 Feature: SMOKE | Classes: ['no', 'yes']\n",
      "📊 Feature: SCC | Classes: ['no', 'yes']\n",
      "📊 Feature: CALC | Classes: ['Frequently', 'Sometimes', 'no']\n",
      "📊 Feature: MTRANS | Classes: ['Automobile', 'Bike', 'Motorbike', 'Public_Transportation', 'Walking']\n",
      "\n",
      "X_train shape before: (14530, 17) -> after transformation: (14530, 30)\n",
      "X_test shape before: (4152, 17) -> after transformation: (4152, 30)\n",
      "X_val shape before: (2076, 17) -> after transformation: (2076, 30)\n"
     ]
    }
   ],
   "source": [
    "df_train, df_test = train_test_split(df, test_size=0.2, random_state=42)\n",
    "df_train, df_val = train_test_split(df_train, test_size=0.125, random_state=42)  # 0.125 * 80% = 10%\n",
    "\n",
    "X_train, y_train, label_encoder = preprocess_data(df_train, target_column='NObeyesdad', mode='train', encoder_path='obesity_preprocessor.pkl', label_encoder_path='obesity_label_encoder.pkl')\n",
    "X_test, y_test, _ = preprocess_data(df_test, target_column='NObeyesdad', mode='test', encoder_path='obesity_preprocessor.pkl', label_encoder_path='obesity_label_encoder.pkl')\n",
    "X_val, y_val, _ = preprocess_data(df_val, target_column='NObeyesdad', mode='test', encoder_path='obesity_preprocessor.pkl', label_encoder_path='obesity_label_encoder.pkl')\n",
    "\n",
    "print()\n",
    "print(f'X_train shape before: {df_train.shape} -> after transformation: {X_train.shape}')\n",
    "print(f'X_test shape before: {df_test.shape} -> after transformation: {X_test.shape}')\n",
    "print(f'X_val shape before: {df_val.shape} -> after transformation: {X_val.shape}')"
   ]
  },
  {
   "cell_type": "code",
   "execution_count": 7,
   "metadata": {},
   "outputs": [
    {
     "data": {
      "text/html": [
       "<pre style=\"white-space:pre;overflow-x:auto;line-height:normal;font-family:Menlo,'DejaVu Sans Mono',consolas,'Courier New',monospace\"><span style=\"font-weight: bold\">Model: \"sequential_1\"</span>\n",
       "</pre>\n"
      ],
      "text/plain": [
       "\u001b[1mModel: \"sequential_1\"\u001b[0m\n"
      ]
     },
     "metadata": {},
     "output_type": "display_data"
    },
    {
     "data": {
      "text/html": [
       "<pre style=\"white-space:pre;overflow-x:auto;line-height:normal;font-family:Menlo,'DejaVu Sans Mono',consolas,'Courier New',monospace\">┏━━━━━━━━━━━━━━━━━━━━━━━━━━━━━━━━━┳━━━━━━━━━━━━━━━━━━━━━━━━┳━━━━━━━━━━━━━━━┓\n",
       "┃<span style=\"font-weight: bold\"> Layer (type)                    </span>┃<span style=\"font-weight: bold\"> Output Shape           </span>┃<span style=\"font-weight: bold\">       Param # </span>┃\n",
       "┡━━━━━━━━━━━━━━━━━━━━━━━━━━━━━━━━━╇━━━━━━━━━━━━━━━━━━━━━━━━╇━━━━━━━━━━━━━━━┩\n",
       "│ dense_3 (<span style=\"color: #0087ff; text-decoration-color: #0087ff\">Dense</span>)                 │ (<span style=\"color: #00d7ff; text-decoration-color: #00d7ff\">None</span>, <span style=\"color: #00af00; text-decoration-color: #00af00\">128</span>)            │         <span style=\"color: #00af00; text-decoration-color: #00af00\">3,968</span> │\n",
       "├─────────────────────────────────┼────────────────────────┼───────────────┤\n",
       "│ dropout_1 (<span style=\"color: #0087ff; text-decoration-color: #0087ff\">Dropout</span>)             │ (<span style=\"color: #00d7ff; text-decoration-color: #00d7ff\">None</span>, <span style=\"color: #00af00; text-decoration-color: #00af00\">128</span>)            │             <span style=\"color: #00af00; text-decoration-color: #00af00\">0</span> │\n",
       "├─────────────────────────────────┼────────────────────────┼───────────────┤\n",
       "│ dense_4 (<span style=\"color: #0087ff; text-decoration-color: #0087ff\">Dense</span>)                 │ (<span style=\"color: #00d7ff; text-decoration-color: #00d7ff\">None</span>, <span style=\"color: #00af00; text-decoration-color: #00af00\">64</span>)             │         <span style=\"color: #00af00; text-decoration-color: #00af00\">8,256</span> │\n",
       "├─────────────────────────────────┼────────────────────────┼───────────────┤\n",
       "│ dense_5 (<span style=\"color: #0087ff; text-decoration-color: #0087ff\">Dense</span>)                 │ (<span style=\"color: #00d7ff; text-decoration-color: #00d7ff\">None</span>, <span style=\"color: #00af00; text-decoration-color: #00af00\">7</span>)              │           <span style=\"color: #00af00; text-decoration-color: #00af00\">455</span> │\n",
       "└─────────────────────────────────┴────────────────────────┴───────────────┘\n",
       "</pre>\n"
      ],
      "text/plain": [
       "┏━━━━━━━━━━━━━━━━━━━━━━━━━━━━━━━━━┳━━━━━━━━━━━━━━━━━━━━━━━━┳━━━━━━━━━━━━━━━┓\n",
       "┃\u001b[1m \u001b[0m\u001b[1mLayer (type)                   \u001b[0m\u001b[1m \u001b[0m┃\u001b[1m \u001b[0m\u001b[1mOutput Shape          \u001b[0m\u001b[1m \u001b[0m┃\u001b[1m \u001b[0m\u001b[1m      Param #\u001b[0m\u001b[1m \u001b[0m┃\n",
       "┡━━━━━━━━━━━━━━━━━━━━━━━━━━━━━━━━━╇━━━━━━━━━━━━━━━━━━━━━━━━╇━━━━━━━━━━━━━━━┩\n",
       "│ dense_3 (\u001b[38;5;33mDense\u001b[0m)                 │ (\u001b[38;5;45mNone\u001b[0m, \u001b[38;5;34m128\u001b[0m)            │         \u001b[38;5;34m3,968\u001b[0m │\n",
       "├─────────────────────────────────┼────────────────────────┼───────────────┤\n",
       "│ dropout_1 (\u001b[38;5;33mDropout\u001b[0m)             │ (\u001b[38;5;45mNone\u001b[0m, \u001b[38;5;34m128\u001b[0m)            │             \u001b[38;5;34m0\u001b[0m │\n",
       "├─────────────────────────────────┼────────────────────────┼───────────────┤\n",
       "│ dense_4 (\u001b[38;5;33mDense\u001b[0m)                 │ (\u001b[38;5;45mNone\u001b[0m, \u001b[38;5;34m64\u001b[0m)             │         \u001b[38;5;34m8,256\u001b[0m │\n",
       "├─────────────────────────────────┼────────────────────────┼───────────────┤\n",
       "│ dense_5 (\u001b[38;5;33mDense\u001b[0m)                 │ (\u001b[38;5;45mNone\u001b[0m, \u001b[38;5;34m7\u001b[0m)              │           \u001b[38;5;34m455\u001b[0m │\n",
       "└─────────────────────────────────┴────────────────────────┴───────────────┘\n"
      ]
     },
     "metadata": {},
     "output_type": "display_data"
    },
    {
     "data": {
      "text/html": [
       "<pre style=\"white-space:pre;overflow-x:auto;line-height:normal;font-family:Menlo,'DejaVu Sans Mono',consolas,'Courier New',monospace\"><span style=\"font-weight: bold\"> Total params: </span><span style=\"color: #00af00; text-decoration-color: #00af00\">12,679</span> (49.53 KB)\n",
       "</pre>\n"
      ],
      "text/plain": [
       "\u001b[1m Total params: \u001b[0m\u001b[38;5;34m12,679\u001b[0m (49.53 KB)\n"
      ]
     },
     "metadata": {},
     "output_type": "display_data"
    },
    {
     "data": {
      "text/html": [
       "<pre style=\"white-space:pre;overflow-x:auto;line-height:normal;font-family:Menlo,'DejaVu Sans Mono',consolas,'Courier New',monospace\"><span style=\"font-weight: bold\"> Trainable params: </span><span style=\"color: #00af00; text-decoration-color: #00af00\">12,679</span> (49.53 KB)\n",
       "</pre>\n"
      ],
      "text/plain": [
       "\u001b[1m Trainable params: \u001b[0m\u001b[38;5;34m12,679\u001b[0m (49.53 KB)\n"
      ]
     },
     "metadata": {},
     "output_type": "display_data"
    },
    {
     "data": {
      "text/html": [
       "<pre style=\"white-space:pre;overflow-x:auto;line-height:normal;font-family:Menlo,'DejaVu Sans Mono',consolas,'Courier New',monospace\"><span style=\"font-weight: bold\"> Non-trainable params: </span><span style=\"color: #00af00; text-decoration-color: #00af00\">0</span> (0.00 B)\n",
       "</pre>\n"
      ],
      "text/plain": [
       "\u001b[1m Non-trainable params: \u001b[0m\u001b[38;5;34m0\u001b[0m (0.00 B)\n"
      ]
     },
     "metadata": {},
     "output_type": "display_data"
    }
   ],
   "source": [
    "lr_schedule = ExponentialDecay(initial_learning_rate=0.0001, decay_steps=10000, decay_rate=0.9)\n",
    "\n",
    "model = Sequential([\n",
    "    Input(shape=(30,)),\n",
    "    Dense(128, activation=\"relu\", kernel_initializer=HeUniform()),\n",
    "    Dropout(0.2),\n",
    "    Dense(64, activation=\"relu\", kernel_initializer=HeUniform()),\n",
    "    Dense(7, activation=\"softmax\")\n",
    "])\n",
    "model.summary()\n",
    "model.compile(optimizer=Adam(learning_rate=lr_schedule), \n",
    "              loss=\"categorical_crossentropy\", \n",
    "              metrics=[F1Score(average='weighted', name='f1_score'),\n",
    "                       \"accuracy\"])\n"
   ]
  },
  {
   "cell_type": "code",
   "execution_count": 8,
   "metadata": {},
   "outputs": [
    {
     "name": "stdout",
     "output_type": "stream",
     "text": [
      "Epoch 1/100\n",
      "\u001b[1m455/455\u001b[0m \u001b[32m━━━━━━━━━━━━━━━━━━━━\u001b[0m\u001b[37m\u001b[0m \u001b[1m1s\u001b[0m 1ms/step - accuracy: 0.2579 - f1_score: 0.2369 - loss: 2.0430 - val_accuracy: 0.6108 - val_f1_score: 0.5814 - val_loss: 1.1178\n",
      "Epoch 2/100\n",
      "\u001b[1m455/455\u001b[0m \u001b[32m━━━━━━━━━━━━━━━━━━━━\u001b[0m\u001b[37m\u001b[0m \u001b[1m0s\u001b[0m 981us/step - accuracy: 0.5780 - f1_score: 0.5575 - loss: 1.1302 - val_accuracy: 0.6633 - val_f1_score: 0.6396 - val_loss: 0.8707\n",
      "Epoch 3/100\n",
      "\u001b[1m455/455\u001b[0m \u001b[32m━━━━━━━━━━━━━━━━━━━━\u001b[0m\u001b[37m\u001b[0m \u001b[1m0s\u001b[0m 973us/step - accuracy: 0.6512 - f1_score: 0.6359 - loss: 0.9068 - val_accuracy: 0.7100 - val_f1_score: 0.6965 - val_loss: 0.7568\n",
      "Epoch 4/100\n",
      "\u001b[1m455/455\u001b[0m \u001b[32m━━━━━━━━━━━━━━━━━━━━\u001b[0m\u001b[37m\u001b[0m \u001b[1m1s\u001b[0m 1ms/step - accuracy: 0.6800 - f1_score: 0.6700 - loss: 0.8102 - val_accuracy: 0.7399 - val_f1_score: 0.7308 - val_loss: 0.6823\n",
      "Epoch 5/100\n",
      "\u001b[1m455/455\u001b[0m \u001b[32m━━━━━━━━━━━━━━━━━━━━\u001b[0m\u001b[37m\u001b[0m \u001b[1m0s\u001b[0m 992us/step - accuracy: 0.7120 - f1_score: 0.7045 - loss: 0.7327 - val_accuracy: 0.7640 - val_f1_score: 0.7554 - val_loss: 0.6289\n",
      "Epoch 6/100\n",
      "\u001b[1m455/455\u001b[0m \u001b[32m━━━━━━━━━━━━━━━━━━━━\u001b[0m\u001b[37m\u001b[0m \u001b[1m0s\u001b[0m 984us/step - accuracy: 0.7295 - f1_score: 0.7234 - loss: 0.6850 - val_accuracy: 0.7828 - val_f1_score: 0.7766 - val_loss: 0.5862\n",
      "Epoch 7/100\n",
      "\u001b[1m455/455\u001b[0m \u001b[32m━━━━━━━━━━━━━━━━━━━━\u001b[0m\u001b[37m\u001b[0m \u001b[1m0s\u001b[0m 987us/step - accuracy: 0.7472 - f1_score: 0.7425 - loss: 0.6472 - val_accuracy: 0.7982 - val_f1_score: 0.7928 - val_loss: 0.5543\n",
      "Epoch 8/100\n",
      "\u001b[1m455/455\u001b[0m \u001b[32m━━━━━━━━━━━━━━━━━━━━\u001b[0m\u001b[37m\u001b[0m \u001b[1m0s\u001b[0m 996us/step - accuracy: 0.7560 - f1_score: 0.7526 - loss: 0.6131 - val_accuracy: 0.8049 - val_f1_score: 0.7998 - val_loss: 0.5298\n",
      "Epoch 9/100\n",
      "\u001b[1m455/455\u001b[0m \u001b[32m━━━━━━━━━━━━━━━━━━━━\u001b[0m\u001b[37m\u001b[0m \u001b[1m0s\u001b[0m 976us/step - accuracy: 0.7715 - f1_score: 0.7684 - loss: 0.5921 - val_accuracy: 0.8141 - val_f1_score: 0.8105 - val_loss: 0.5099\n",
      "Epoch 10/100\n",
      "\u001b[1m455/455\u001b[0m \u001b[32m━━━━━━━━━━━━━━━━━━━━\u001b[0m\u001b[37m\u001b[0m \u001b[1m0s\u001b[0m 1ms/step - accuracy: 0.7846 - f1_score: 0.7824 - loss: 0.5519 - val_accuracy: 0.8280 - val_f1_score: 0.8248 - val_loss: 0.4901\n",
      "Epoch 11/100\n",
      "\u001b[1m455/455\u001b[0m \u001b[32m━━━━━━━━━━━━━━━━━━━━\u001b[0m\u001b[37m\u001b[0m \u001b[1m0s\u001b[0m 1ms/step - accuracy: 0.7898 - f1_score: 0.7874 - loss: 0.5411 - val_accuracy: 0.8324 - val_f1_score: 0.8287 - val_loss: 0.4756\n",
      "Epoch 12/100\n",
      "\u001b[1m455/455\u001b[0m \u001b[32m━━━━━━━━━━━━━━━━━━━━\u001b[0m\u001b[37m\u001b[0m \u001b[1m0s\u001b[0m 1ms/step - accuracy: 0.8001 - f1_score: 0.7973 - loss: 0.5277 - val_accuracy: 0.8309 - val_f1_score: 0.8289 - val_loss: 0.4649\n",
      "Epoch 13/100\n",
      "\u001b[1m455/455\u001b[0m \u001b[32m━━━━━━━━━━━━━━━━━━━━\u001b[0m\u001b[37m\u001b[0m \u001b[1m1s\u001b[0m 1ms/step - accuracy: 0.8094 - f1_score: 0.8076 - loss: 0.5058 - val_accuracy: 0.8430 - val_f1_score: 0.8415 - val_loss: 0.4526\n",
      "Epoch 14/100\n",
      "\u001b[1m455/455\u001b[0m \u001b[32m━━━━━━━━━━━━━━━━━━━━\u001b[0m\u001b[37m\u001b[0m \u001b[1m1s\u001b[0m 1ms/step - accuracy: 0.8126 - f1_score: 0.8109 - loss: 0.4927 - val_accuracy: 0.8425 - val_f1_score: 0.8401 - val_loss: 0.4460\n",
      "Epoch 15/100\n",
      "\u001b[1m455/455\u001b[0m \u001b[32m━━━━━━━━━━━━━━━━━━━━\u001b[0m\u001b[37m\u001b[0m \u001b[1m1s\u001b[0m 1ms/step - accuracy: 0.8187 - f1_score: 0.8172 - loss: 0.4880 - val_accuracy: 0.8444 - val_f1_score: 0.8417 - val_loss: 0.4390\n",
      "Epoch 16/100\n",
      "\u001b[1m455/455\u001b[0m \u001b[32m━━━━━━━━━━━━━━━━━━━━\u001b[0m\u001b[37m\u001b[0m \u001b[1m0s\u001b[0m 998us/step - accuracy: 0.8124 - f1_score: 0.8108 - loss: 0.4898 - val_accuracy: 0.8483 - val_f1_score: 0.8461 - val_loss: 0.4343\n",
      "Epoch 17/100\n",
      "\u001b[1m455/455\u001b[0m \u001b[32m━━━━━━━━━━━━━━━━━━━━\u001b[0m\u001b[37m\u001b[0m \u001b[1m0s\u001b[0m 1ms/step - accuracy: 0.8261 - f1_score: 0.8245 - loss: 0.4719 - val_accuracy: 0.8468 - val_f1_score: 0.8444 - val_loss: 0.4281\n",
      "Epoch 18/100\n",
      "\u001b[1m455/455\u001b[0m \u001b[32m━━━━━━━━━━━━━━━━━━━━\u001b[0m\u001b[37m\u001b[0m \u001b[1m0s\u001b[0m 1ms/step - accuracy: 0.8189 - f1_score: 0.8172 - loss: 0.4709 - val_accuracy: 0.8497 - val_f1_score: 0.8473 - val_loss: 0.4248\n",
      "Epoch 19/100\n",
      "\u001b[1m455/455\u001b[0m \u001b[32m━━━━━━━━━━━━━━━━━━━━\u001b[0m\u001b[37m\u001b[0m \u001b[1m0s\u001b[0m 1ms/step - accuracy: 0.8213 - f1_score: 0.8198 - loss: 0.4672 - val_accuracy: 0.8512 - val_f1_score: 0.8483 - val_loss: 0.4198\n",
      "Epoch 20/100\n",
      "\u001b[1m455/455\u001b[0m \u001b[32m━━━━━━━━━━━━━━━━━━━━\u001b[0m\u001b[37m\u001b[0m \u001b[1m0s\u001b[0m 1ms/step - accuracy: 0.8227 - f1_score: 0.8214 - loss: 0.4730 - val_accuracy: 0.8492 - val_f1_score: 0.8462 - val_loss: 0.4180\n",
      "Epoch 21/100\n",
      "\u001b[1m455/455\u001b[0m \u001b[32m━━━━━━━━━━━━━━━━━━━━\u001b[0m\u001b[37m\u001b[0m \u001b[1m1s\u001b[0m 1ms/step - accuracy: 0.8305 - f1_score: 0.8294 - loss: 0.4525 - val_accuracy: 0.8526 - val_f1_score: 0.8505 - val_loss: 0.4134\n",
      "Epoch 22/100\n",
      "\u001b[1m455/455\u001b[0m \u001b[32m━━━━━━━━━━━━━━━━━━━━\u001b[0m\u001b[37m\u001b[0m \u001b[1m0s\u001b[0m 1ms/step - accuracy: 0.8334 - f1_score: 0.8321 - loss: 0.4501 - val_accuracy: 0.8550 - val_f1_score: 0.8532 - val_loss: 0.4103\n",
      "Epoch 23/100\n",
      "\u001b[1m455/455\u001b[0m \u001b[32m━━━━━━━━━━━━━━━━━━━━\u001b[0m\u001b[37m\u001b[0m \u001b[1m0s\u001b[0m 1ms/step - accuracy: 0.8325 - f1_score: 0.8310 - loss: 0.4452 - val_accuracy: 0.8531 - val_f1_score: 0.8509 - val_loss: 0.4108\n",
      "Epoch 24/100\n",
      "\u001b[1m455/455\u001b[0m \u001b[32m━━━━━━━━━━━━━━━━━━━━\u001b[0m\u001b[37m\u001b[0m \u001b[1m0s\u001b[0m 1ms/step - accuracy: 0.8365 - f1_score: 0.8354 - loss: 0.4392 - val_accuracy: 0.8526 - val_f1_score: 0.8504 - val_loss: 0.4075\n",
      "Epoch 25/100\n",
      "\u001b[1m455/455\u001b[0m \u001b[32m━━━━━━━━━━━━━━━━━━━━\u001b[0m\u001b[37m\u001b[0m \u001b[1m0s\u001b[0m 1ms/step - accuracy: 0.8364 - f1_score: 0.8353 - loss: 0.4368 - val_accuracy: 0.8569 - val_f1_score: 0.8546 - val_loss: 0.4058\n",
      "Epoch 26/100\n",
      "\u001b[1m455/455\u001b[0m \u001b[32m━━━━━━━━━━━━━━━━━━━━\u001b[0m\u001b[37m\u001b[0m \u001b[1m1s\u001b[0m 1ms/step - accuracy: 0.8381 - f1_score: 0.8370 - loss: 0.4291 - val_accuracy: 0.8589 - val_f1_score: 0.8568 - val_loss: 0.4026\n",
      "Epoch 27/100\n",
      "\u001b[1m455/455\u001b[0m \u001b[32m━━━━━━━━━━━━━━━━━━━━\u001b[0m\u001b[37m\u001b[0m \u001b[1m1s\u001b[0m 1ms/step - accuracy: 0.8369 - f1_score: 0.8360 - loss: 0.4455 - val_accuracy: 0.8593 - val_f1_score: 0.8579 - val_loss: 0.4000\n",
      "Epoch 28/100\n",
      "\u001b[1m455/455\u001b[0m \u001b[32m━━━━━━━━━━━━━━━━━━━━\u001b[0m\u001b[37m\u001b[0m \u001b[1m0s\u001b[0m 1ms/step - accuracy: 0.8413 - f1_score: 0.8400 - loss: 0.4343 - val_accuracy: 0.8618 - val_f1_score: 0.8599 - val_loss: 0.3975\n",
      "Epoch 29/100\n",
      "\u001b[1m455/455\u001b[0m \u001b[32m━━━━━━━━━━━━━━━━━━━━\u001b[0m\u001b[37m\u001b[0m \u001b[1m0s\u001b[0m 1ms/step - accuracy: 0.8478 - f1_score: 0.8469 - loss: 0.4232 - val_accuracy: 0.8656 - val_f1_score: 0.8644 - val_loss: 0.3953\n",
      "Epoch 30/100\n",
      "\u001b[1m455/455\u001b[0m \u001b[32m━━━━━━━━━━━━━━━━━━━━\u001b[0m\u001b[37m\u001b[0m \u001b[1m0s\u001b[0m 1ms/step - accuracy: 0.8414 - f1_score: 0.8402 - loss: 0.4314 - val_accuracy: 0.8632 - val_f1_score: 0.8616 - val_loss: 0.3943\n",
      "Epoch 31/100\n",
      "\u001b[1m455/455\u001b[0m \u001b[32m━━━━━━━━━━━━━━━━━━━━\u001b[0m\u001b[37m\u001b[0m \u001b[1m1s\u001b[0m 1ms/step - accuracy: 0.8450 - f1_score: 0.8441 - loss: 0.4238 - val_accuracy: 0.8632 - val_f1_score: 0.8616 - val_loss: 0.3931\n",
      "Epoch 32/100\n",
      "\u001b[1m455/455\u001b[0m \u001b[32m━━━━━━━━━━━━━━━━━━━━\u001b[0m\u001b[37m\u001b[0m \u001b[1m0s\u001b[0m 1ms/step - accuracy: 0.8458 - f1_score: 0.8449 - loss: 0.4106 - val_accuracy: 0.8627 - val_f1_score: 0.8613 - val_loss: 0.3918\n",
      "Epoch 33/100\n",
      "\u001b[1m455/455\u001b[0m \u001b[32m━━━━━━━━━━━━━━━━━━━━\u001b[0m\u001b[37m\u001b[0m \u001b[1m0s\u001b[0m 997us/step - accuracy: 0.8442 - f1_score: 0.8433 - loss: 0.4207 - val_accuracy: 0.8593 - val_f1_score: 0.8574 - val_loss: 0.3915\n",
      "Epoch 34/100\n",
      "\u001b[1m455/455\u001b[0m \u001b[32m━━━━━━━━━━━━━━━━━━━━\u001b[0m\u001b[37m\u001b[0m \u001b[1m0s\u001b[0m 991us/step - accuracy: 0.8466 - f1_score: 0.8455 - loss: 0.4061 - val_accuracy: 0.8593 - val_f1_score: 0.8574 - val_loss: 0.3909\n"
     ]
    }
   ],
   "source": [
    "callback = EarlyStopping(monitor='val_f1_score', patience=5, min_delta=1e-3, restore_best_weights=True)\n",
    "\n",
    "model.fit(X_train, y_train,\n",
    "          validation_data=(X_val, y_val),\n",
    "          epochs=100,\n",
    "          batch_size=32,\n",
    "          callbacks=[callback])\n",
    "model.save('../../models/obesity_model.keras')"
   ]
  },
  {
   "cell_type": "code",
   "execution_count": 9,
   "metadata": {},
   "outputs": [
    {
     "name": "stdout",
     "output_type": "stream",
     "text": [
      "\u001b[1m130/130\u001b[0m \u001b[32m━━━━━━━━━━━━━━━━━━━━\u001b[0m\u001b[37m\u001b[0m \u001b[1m0s\u001b[0m 854us/step - accuracy: 0.8708 - f1_score: 0.8707 - loss: 0.3696\n",
      "Test Loss: 0.3778\n",
      "Test F1 Score: 0.8653\n",
      "Test Accuracy: 86.58%\n",
      "\u001b[1m130/130\u001b[0m \u001b[32m━━━━━━━━━━━━━━━━━━━━\u001b[0m\u001b[37m\u001b[0m \u001b[1m0s\u001b[0m 571us/step\n",
      "['Obesity_Type_III' 'Overweight_Level_I' 'Obesity_Type_I' ...\n",
      " 'Obesity_Type_I' 'Overweight_Level_I' 'Overweight_Level_II']\n"
     ]
    },
    {
     "data": {
      "image/png": "[encoded data removed]",
      "text/plain": [
       "<Figure size 640x480 with 2 Axes>"
      ]
     },
     "metadata": {},
     "output_type": "display_data"
    }
   ],
   "source": [
    "loss, f1_score, accuracy = model.evaluate(X_test, y_test)\n",
    "\n",
    "print(f\"Test Loss: {loss:.4f}\")\n",
    "print(f\"Test F1 Score: {f1_score:.4f}\")\n",
    "print(f\"Test Accuracy: {accuracy * 100:.2f}%\")\n",
    "\n",
    "# Visualize the predictions\n",
    "y_pred_temp = model.predict(X_test)\n",
    "y_pred_temp = np.argmax(y_pred_temp, axis=1)\n",
    "y_pred_temp = label_encoder.inverse_transform(y_pred_temp)\n",
    "\n",
    "y_test_temp = np.argmax(y_test, axis=1)\n",
    "y_test_temp = label_encoder.inverse_transform(y_test_temp)\n",
    "print(y_test_temp)\n",
    "\n",
    "cm = confusion_matrix(y_test_temp, y_pred_temp)\n",
    "cm_display = ConfusionMatrixDisplay(confusion_matrix=cm, display_labels=label_encoder.classes_)\n",
    "cm_display.plot(cmap='Blues', values_format='d')\n",
    "plt.xticks(rotation=90)\n",
    "plt.title(\"Confusion Matrix\")\n",
    "plt.show()"
   ]
  },
  {
   "cell_type": "code",
   "execution_count": 11,
   "metadata": {},
   "outputs": [
    {
     "name": "stdout",
     "output_type": "stream",
     "text": [
      "\u001b[1m1/1\u001b[0m \u001b[32m━━━━━━━━━━━━━━━━━━━━\u001b[0m\u001b[37m\u001b[0m \u001b[1m0s\u001b[0m 36ms/step\n",
      "Overweight_Level_II\n"
     ]
    }
   ],
   "source": [
    "def predict(input):\n",
    "    model = load_model('../../models/obesity_model.keras')\n",
    "\n",
    "    # Check model, encoder, and label encoder existence\n",
    "    PREPROCESSOR_PATH = 'obesity_preprocessor.pkl'\n",
    "    LABEL_ENCODER_PATH = 'obesity_label_encoder.pkl'\n",
    "    if not model:\n",
    "        raise Exception(\"Model not found.\")\n",
    "    if not joblib.load(PREPROCESSOR_PATH):\n",
    "        raise Exception(\"Encoder not found.\")\n",
    "    if not joblib.load(LABEL_ENCODER_PATH):\n",
    "        raise Exception(\"Label encoder not found.\")\n",
    "    \n",
    "    input = pd.DataFrame([input])\n",
    "    input_transformed = preprocess_data(input, target_column=None, mode='test', encoder_path='obesity_preprocessor.pkl', label_encoder_path='obesity_label_encoder.pkl')\n",
    "    y_pred_temp = model.predict(input_transformed)\n",
    "    y_pred_temp = np.argmax(y_pred_temp, axis=1)\n",
    "    y_pred_temp = label_encoder.inverse_transform(y_pred_temp)\n",
    "    return y_pred_temp[0]\n",
    "\n",
    "# Example usage\n",
    "input = {\n",
    "    \"Gender\": \"Male\",\n",
    "    \"Age\": 24.443011,\n",
    "    \"Height\": 1.699998,\n",
    "    \"Weight\": 81.66995,\n",
    "    \"family_history_with_overweight\": \"yes\",\n",
    "    \"FAVC\": \"yes\",\n",
    "    \"FCVC\": 2.7,\n",
    "    \"CAEC\": \"Sometimes\",\n",
    "    \"NCP\": 2.983297,\n",
    "    \"CH2O\": 2.763573,\n",
    "    \"SMOKE\": \"no\",\n",
    "    \"SCC\": \"no\",\n",
    "    \"FAF\": 0,\n",
    "    \"TUE\": 0.976473,\n",
    "    \"CALC\": \"Sometimes\",\n",
    "    \"MTRANS\": \"Public_Transportation\"\n",
    "}\n",
    "print(predict(input))\n"
   ]
  }
 ],
 "metadata": {
  "kernelspec": {
   "display_name": "Python 3",
   "language": "python",
   "name": "python3"
  },
  "language_info": {
   "codemirror_mode": {
    "name": "ipython",
    "version": 3
   },
   "file_extension": ".py",
   "mimetype": "text/x-python",
   "name": "python",
   "nbconvert_exporter": "python",
   "pygments_lexer": "ipython3",
   "version": "3.10.6"
  }
 },
 "nbformat": 4,
 "nbformat_minor": 2
}
