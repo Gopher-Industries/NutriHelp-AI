{
 "cells": [
  {
   "cell_type": "markdown",
   "metadata": {},
   "source": [
    "## Import Libraries and Data"
   ]
  },
  {
   "cell_type": "code",
   "execution_count": 118,
   "metadata": {},
   "outputs": [],
   "source": [
    "# Data Analysis and Wrangling\n",
    "import pandas as pd\n",
    "import numpy as np\n",
    "\n",
    "# Data Preprocessing\n",
    "from sklearn.preprocessing import StandardScaler, OneHotEncoder\n",
    "from sklearn.compose import ColumnTransformer\n",
    "from sklearn.pipeline import Pipeline\n",
    "from sklearn.model_selection import train_test_split\n",
    "from sklearn.preprocessing import LabelEncoder\n",
    "\n",
    "\n",
    "# Visualization\n",
    "import seaborn as sns\n",
    "import matplotlib.pyplot as plt\n",
    "from sklearn.metrics import confusion_matrix, ConfusionMatrixDisplay\n",
    "\n",
    "\n",
    "# Deep Learning Libraries\n",
    "from tensorflow.keras.models import Sequential, load_model, Model\n",
    "from tensorflow.keras.layers import Dense, BatchNormalization, Dropout, Input, Add, Concatenate, LeakyReLU\n",
    "from tensorflow.keras.optimizers import Adam, RMSprop\n",
    "from tensorflow.keras.callbacks import EarlyStopping\n",
    "from tensorflow.keras.initializers import HeUniform\n",
    "from tensorflow.keras.utils import to_categorical\n",
    "from tensorflow.keras.optimizers.schedules import ExponentialDecay\n",
    "from tensorflow.keras.metrics import F1Score\n",
    "\n",
    "# File Handling\n",
    "import joblib\n",
    "\n",
    "\n"
   ]
  },
  {
   "cell_type": "markdown",
   "metadata": {},
   "source": [
    "## Preprocessing\n",
    "In the preprocessing step, we define the categorical and numerical columns that we intend to process further.\n",
    "\n",
    "- **Target column**: The **obesity category (NObeyesdad)** is the target feature we want to predict in this case (e.g., normal weight, overweight level I, etc.).\n",
    "\n",
    "- **Categorical features**: We apply **one-hot encoding** including target column (by using <code>to_categorical</code>) instead of label encoding since deep learning models are capable of handling high-dimensional data efficiently.\n",
    "\n",
    "- **Numerical features**: We apply **standardization** by subtracting the mean and dividing by the standard deviation for each feature. This ensures that no single feature disproportionately influences the model due to scale differences.\n",
    "\n",
    "Finally, we split the dataset into a **20% test set**, **~10% validation set** and an **~70% training set**, which is a typical ratio used in machine learning."
   ]
  },
  {
   "cell_type": "code",
   "execution_count": 74,
   "metadata": {},
   "outputs": [
    {
     "name": "stdout",
     "output_type": "stream",
     "text": [
      "Sample size: 20758, Data shape: (20758, 17)\n"
     ]
    },
    {
     "data": {
      "text/html": [
       "<div>\n",
       "<style scoped>\n",
       "    .dataframe tbody tr th:only-of-type {\n",
       "        vertical-align: middle;\n",
       "    }\n",
       "\n",
       "    .dataframe tbody tr th {\n",
       "        vertical-align: top;\n",
       "    }\n",
       "\n",
       "    .dataframe thead th {\n",
       "        text-align: right;\n",
       "    }\n",
       "</style>\n",
       "<table border=\"1\" class=\"dataframe\">\n",
       "  <thead>\n",
       "    <tr style=\"text-align: right;\">\n",
       "      <th></th>\n",
       "      <th>Gender</th>\n",
       "      <th>Age</th>\n",
       "      <th>Height</th>\n",
       "      <th>Weight</th>\n",
       "      <th>family_history_with_overweight</th>\n",
       "      <th>FAVC</th>\n",
       "      <th>FCVC</th>\n",
       "      <th>NCP</th>\n",
       "      <th>CAEC</th>\n",
       "      <th>SMOKE</th>\n",
       "      <th>CH2O</th>\n",
       "      <th>SCC</th>\n",
       "      <th>FAF</th>\n",
       "      <th>TUE</th>\n",
       "      <th>CALC</th>\n",
       "      <th>MTRANS</th>\n",
       "      <th>NObeyesdad</th>\n",
       "    </tr>\n",
       "  </thead>\n",
       "  <tbody>\n",
       "    <tr>\n",
       "      <th>0</th>\n",
       "      <td>Male</td>\n",
       "      <td>24.443011</td>\n",
       "      <td>1.699998</td>\n",
       "      <td>81.669950</td>\n",
       "      <td>yes</td>\n",
       "      <td>yes</td>\n",
       "      <td>2.000000</td>\n",
       "      <td>2.983297</td>\n",
       "      <td>Sometimes</td>\n",
       "      <td>no</td>\n",
       "      <td>2.763573</td>\n",
       "      <td>no</td>\n",
       "      <td>0.000000</td>\n",
       "      <td>0.976473</td>\n",
       "      <td>Sometimes</td>\n",
       "      <td>Public_Transportation</td>\n",
       "      <td>Overweight_Level_II</td>\n",
       "    </tr>\n",
       "    <tr>\n",
       "      <th>1</th>\n",
       "      <td>Female</td>\n",
       "      <td>18.000000</td>\n",
       "      <td>1.560000</td>\n",
       "      <td>57.000000</td>\n",
       "      <td>yes</td>\n",
       "      <td>yes</td>\n",
       "      <td>2.000000</td>\n",
       "      <td>3.000000</td>\n",
       "      <td>Frequently</td>\n",
       "      <td>no</td>\n",
       "      <td>2.000000</td>\n",
       "      <td>no</td>\n",
       "      <td>1.000000</td>\n",
       "      <td>1.000000</td>\n",
       "      <td>no</td>\n",
       "      <td>Automobile</td>\n",
       "      <td>Normal_Weight</td>\n",
       "    </tr>\n",
       "    <tr>\n",
       "      <th>2</th>\n",
       "      <td>Female</td>\n",
       "      <td>18.000000</td>\n",
       "      <td>1.711460</td>\n",
       "      <td>50.165754</td>\n",
       "      <td>yes</td>\n",
       "      <td>yes</td>\n",
       "      <td>1.880534</td>\n",
       "      <td>1.411685</td>\n",
       "      <td>Sometimes</td>\n",
       "      <td>no</td>\n",
       "      <td>1.910378</td>\n",
       "      <td>no</td>\n",
       "      <td>0.866045</td>\n",
       "      <td>1.673584</td>\n",
       "      <td>no</td>\n",
       "      <td>Public_Transportation</td>\n",
       "      <td>Insufficient_Weight</td>\n",
       "    </tr>\n",
       "    <tr>\n",
       "      <th>3</th>\n",
       "      <td>Female</td>\n",
       "      <td>20.952737</td>\n",
       "      <td>1.710730</td>\n",
       "      <td>131.274851</td>\n",
       "      <td>yes</td>\n",
       "      <td>yes</td>\n",
       "      <td>3.000000</td>\n",
       "      <td>3.000000</td>\n",
       "      <td>Sometimes</td>\n",
       "      <td>no</td>\n",
       "      <td>1.674061</td>\n",
       "      <td>no</td>\n",
       "      <td>1.467863</td>\n",
       "      <td>0.780199</td>\n",
       "      <td>Sometimes</td>\n",
       "      <td>Public_Transportation</td>\n",
       "      <td>Obesity_Type_III</td>\n",
       "    </tr>\n",
       "    <tr>\n",
       "      <th>4</th>\n",
       "      <td>Male</td>\n",
       "      <td>31.641081</td>\n",
       "      <td>1.914186</td>\n",
       "      <td>93.798055</td>\n",
       "      <td>yes</td>\n",
       "      <td>yes</td>\n",
       "      <td>2.679664</td>\n",
       "      <td>1.971472</td>\n",
       "      <td>Sometimes</td>\n",
       "      <td>no</td>\n",
       "      <td>1.979848</td>\n",
       "      <td>no</td>\n",
       "      <td>1.967973</td>\n",
       "      <td>0.931721</td>\n",
       "      <td>Sometimes</td>\n",
       "      <td>Public_Transportation</td>\n",
       "      <td>Overweight_Level_II</td>\n",
       "    </tr>\n",
       "  </tbody>\n",
       "</table>\n",
       "</div>"
      ],
      "text/plain": [
       "   Gender        Age    Height      Weight family_history_with_overweight   \n",
       "0    Male  24.443011  1.699998   81.669950                            yes  \\\n",
       "1  Female  18.000000  1.560000   57.000000                            yes   \n",
       "2  Female  18.000000  1.711460   50.165754                            yes   \n",
       "3  Female  20.952737  1.710730  131.274851                            yes   \n",
       "4    Male  31.641081  1.914186   93.798055                            yes   \n",
       "\n",
       "  FAVC      FCVC       NCP        CAEC SMOKE      CH2O SCC       FAF   \n",
       "0  yes  2.000000  2.983297   Sometimes    no  2.763573  no  0.000000  \\\n",
       "1  yes  2.000000  3.000000  Frequently    no  2.000000  no  1.000000   \n",
       "2  yes  1.880534  1.411685   Sometimes    no  1.910378  no  0.866045   \n",
       "3  yes  3.000000  3.000000   Sometimes    no  1.674061  no  1.467863   \n",
       "4  yes  2.679664  1.971472   Sometimes    no  1.979848  no  1.967973   \n",
       "\n",
       "        TUE       CALC                 MTRANS           NObeyesdad  \n",
       "0  0.976473  Sometimes  Public_Transportation  Overweight_Level_II  \n",
       "1  1.000000         no             Automobile        Normal_Weight  \n",
       "2  1.673584         no  Public_Transportation  Insufficient_Weight  \n",
       "3  0.780199  Sometimes  Public_Transportation     Obesity_Type_III  \n",
       "4  0.931721  Sometimes  Public_Transportation  Overweight_Level_II  "
      ]
     },
     "execution_count": 74,
     "metadata": {},
     "output_type": "execute_result"
    }
   ],
   "source": [
    "DATA_PATH = 'data/train.csv'\n",
    "\n",
    "df = pd.read_csv(DATA_PATH)\n",
    "df = df.drop('id', axis=1)\n",
    "print(f'Sample size: {len(df)}, Data shape: {df.shape}')\n",
    "df.head()\n"
   ]
  },
  {
   "cell_type": "code",
   "execution_count": 105,
   "metadata": {},
   "outputs": [],
   "source": [
    "def preprocess_data(df, target_column='NObeyesdad', mode='train', encoder_path=None, label_encoder_path=None):\n",
    "    categorical_columns = ['Gender', 'family_history_with_overweight', 'FAVC', 'CAEC', 'SMOKE', 'SCC', 'CALC', 'MTRANS']\n",
    "    numerical_columns = ['Age', 'Height', 'Weight', 'NCP', 'CH2O', 'FAF', 'TUE']\n",
    "    \n",
    "    numerical_pipeline = Pipeline([('scaler', StandardScaler())])\n",
    "    categorical_pipeline = Pipeline([('onehot', OneHotEncoder(sparse_output=False, handle_unknown='ignore'))])\n",
    "    \n",
    "    preprocessor = ColumnTransformer(transformers=[\n",
    "        ('num', numerical_pipeline, numerical_columns),\n",
    "        ('cat', categorical_pipeline, categorical_columns)\n",
    "    ])\n",
    "\n",
    "    if mode == 'train':\n",
    "        if target_column in df.columns:\n",
    "            le = LabelEncoder()\n",
    "            y = le.fit_transform(df[target_column])\n",
    "            y = to_categorical(y, num_classes=len(le.classes_))\n",
    "            X = df.drop(target_column, axis=1)\n",
    "            print(f'Label Encoded target classes: {le.classes_}')\n",
    "            # Fit and transform\n",
    "            X_transformed = preprocessor.fit_transform(X)\n",
    "            # Save the preprocessor and label encoder\n",
    "            joblib.dump(preprocessor, encoder_path)\n",
    "            joblib.dump(le, label_encoder_path)\n",
    "        else:\n",
    "            y = None\n",
    "            X = df\n",
    "            X_transformed = preprocessor.fit_transform(X)\n",
    "            joblib.dump(preprocessor, encoder_path)\n",
    "    else:\n",
    "        # Load the saved preprocessor and label encoder\n",
    "        preprocessor = joblib.load(encoder_path)\n",
    "        le = joblib.load(label_encoder_path)\n",
    "        y = None if target_column not in df.columns else to_categorical(le.transform(df[target_column]), num_classes=len(le.classes_))\n",
    "        X = df.drop(target_column, axis=1) if target_column in df.columns else df\n",
    "        X_transformed = preprocessor.transform(X)\n",
    "\n",
    "    return (X_transformed, y, le) if target_column in df.columns else (X_transformed)"
   ]
  },
  {
   "cell_type": "code",
   "execution_count": 109,
   "metadata": {},
   "outputs": [
    {
     "name": "stdout",
     "output_type": "stream",
     "text": [
      "Label Encoded target classes: ['Insufficient_Weight' 'Normal_Weight' 'Obesity_Type_I' 'Obesity_Type_II'\n",
      " 'Obesity_Type_III' 'Overweight_Level_I' 'Overweight_Level_II']\n",
      "\n",
      "X_train shape before: (14530, 17) -> after transformation: (14530, 29)\n",
      "\n",
      "X_test shape before: (4152, 17) -> after transformation: (4152, 29)\n",
      "\n",
      "X_val shape before: (2076, 17) -> after transformation: (2076, 29)\n"
     ]
    }
   ],
   "source": [
    "df_train, df_test = train_test_split(df, test_size=0.2, random_state=42)\n",
    "df_train, df_val = train_test_split(df_train, test_size=0.125, random_state=42)  # 0.125 * 80% = 10%\n",
    "\n",
    "X_train, y_train, label_encoder = preprocess_data(df_train, target_column='NObeyesdad', mode='train', encoder_path='obesity_preprocessor.pkl', label_encoder_path='obesity_label_encoder.pkl')\n",
    "X_test, y_test, _ = preprocess_data(df_test, target_column='NObeyesdad', mode='test', encoder_path='obesity_preprocessor.pkl', label_encoder_path='obesity_label_encoder.pkl')\n",
    "X_val, y_val, _ = preprocess_data(df_val, target_column='NObeyesdad', mode='test', encoder_path='obesity_preprocessor.pkl', label_encoder_path='obesity_label_encoder.pkl')\n",
    "\n",
    "print(f'\\nX_train shape before: {df_train.shape} -> after transformation: {X_train.shape}')\n",
    "print(f'\\nX_test shape before: {df_test.shape} -> after transformation: {X_test.shape}')\n",
    "print(f'\\nX_val shape before: {df_val.shape} -> after transformation: {X_val.shape}')"
   ]
  },
  {
   "cell_type": "code",
   "execution_count": 110,
   "metadata": {},
   "outputs": [
    {
     "data": {
      "text/html": [
       "<pre style=\"white-space:pre;overflow-x:auto;line-height:normal;font-family:Menlo,'DejaVu Sans Mono',consolas,'Courier New',monospace\"><span style=\"font-weight: bold\">Model: \"sequential_11\"</span>\n",
       "</pre>\n"
      ],
      "text/plain": [
       "\u001b[1mModel: \"sequential_11\"\u001b[0m\n"
      ]
     },
     "metadata": {},
     "output_type": "display_data"
    },
    {
     "data": {
      "text/html": [
       "<pre style=\"white-space:pre;overflow-x:auto;line-height:normal;font-family:Menlo,'DejaVu Sans Mono',consolas,'Courier New',monospace\">┏━━━━━━━━━━━━━━━━━━━━━━━━━━━━━━━━━┳━━━━━━━━━━━━━━━━━━━━━━━━┳━━━━━━━━━━━━━━━┓\n",
       "┃<span style=\"font-weight: bold\"> Layer (type)                    </span>┃<span style=\"font-weight: bold\"> Output Shape           </span>┃<span style=\"font-weight: bold\">       Param # </span>┃\n",
       "┡━━━━━━━━━━━━━━━━━━━━━━━━━━━━━━━━━╇━━━━━━━━━━━━━━━━━━━━━━━━╇━━━━━━━━━━━━━━━┩\n",
       "│ dense_51 (<span style=\"color: #0087ff; text-decoration-color: #0087ff\">Dense</span>)                │ (<span style=\"color: #00d7ff; text-decoration-color: #00d7ff\">None</span>, <span style=\"color: #00af00; text-decoration-color: #00af00\">128</span>)            │         <span style=\"color: #00af00; text-decoration-color: #00af00\">3,840</span> │\n",
       "├─────────────────────────────────┼────────────────────────┼───────────────┤\n",
       "│ dropout_17 (<span style=\"color: #0087ff; text-decoration-color: #0087ff\">Dropout</span>)            │ (<span style=\"color: #00d7ff; text-decoration-color: #00d7ff\">None</span>, <span style=\"color: #00af00; text-decoration-color: #00af00\">128</span>)            │             <span style=\"color: #00af00; text-decoration-color: #00af00\">0</span> │\n",
       "├─────────────────────────────────┼────────────────────────┼───────────────┤\n",
       "│ dense_52 (<span style=\"color: #0087ff; text-decoration-color: #0087ff\">Dense</span>)                │ (<span style=\"color: #00d7ff; text-decoration-color: #00d7ff\">None</span>, <span style=\"color: #00af00; text-decoration-color: #00af00\">64</span>)             │         <span style=\"color: #00af00; text-decoration-color: #00af00\">8,256</span> │\n",
       "├─────────────────────────────────┼────────────────────────┼───────────────┤\n",
       "│ dense_53 (<span style=\"color: #0087ff; text-decoration-color: #0087ff\">Dense</span>)                │ (<span style=\"color: #00d7ff; text-decoration-color: #00d7ff\">None</span>, <span style=\"color: #00af00; text-decoration-color: #00af00\">7</span>)              │           <span style=\"color: #00af00; text-decoration-color: #00af00\">455</span> │\n",
       "└─────────────────────────────────┴────────────────────────┴───────────────┘\n",
       "</pre>\n"
      ],
      "text/plain": [
       "┏━━━━━━━━━━━━━━━━━━━━━━━━━━━━━━━━━┳━━━━━━━━━━━━━━━━━━━━━━━━┳━━━━━━━━━━━━━━━┓\n",
       "┃\u001b[1m \u001b[0m\u001b[1mLayer (type)                   \u001b[0m\u001b[1m \u001b[0m┃\u001b[1m \u001b[0m\u001b[1mOutput Shape          \u001b[0m\u001b[1m \u001b[0m┃\u001b[1m \u001b[0m\u001b[1m      Param #\u001b[0m\u001b[1m \u001b[0m┃\n",
       "┡━━━━━━━━━━━━━━━━━━━━━━━━━━━━━━━━━╇━━━━━━━━━━━━━━━━━━━━━━━━╇━━━━━━━━━━━━━━━┩\n",
       "│ dense_51 (\u001b[38;5;33mDense\u001b[0m)                │ (\u001b[38;5;45mNone\u001b[0m, \u001b[38;5;34m128\u001b[0m)            │         \u001b[38;5;34m3,840\u001b[0m │\n",
       "├─────────────────────────────────┼────────────────────────┼───────────────┤\n",
       "│ dropout_17 (\u001b[38;5;33mDropout\u001b[0m)            │ (\u001b[38;5;45mNone\u001b[0m, \u001b[38;5;34m128\u001b[0m)            │             \u001b[38;5;34m0\u001b[0m │\n",
       "├─────────────────────────────────┼────────────────────────┼───────────────┤\n",
       "│ dense_52 (\u001b[38;5;33mDense\u001b[0m)                │ (\u001b[38;5;45mNone\u001b[0m, \u001b[38;5;34m64\u001b[0m)             │         \u001b[38;5;34m8,256\u001b[0m │\n",
       "├─────────────────────────────────┼────────────────────────┼───────────────┤\n",
       "│ dense_53 (\u001b[38;5;33mDense\u001b[0m)                │ (\u001b[38;5;45mNone\u001b[0m, \u001b[38;5;34m7\u001b[0m)              │           \u001b[38;5;34m455\u001b[0m │\n",
       "└─────────────────────────────────┴────────────────────────┴───────────────┘\n"
      ]
     },
     "metadata": {},
     "output_type": "display_data"
    },
    {
     "data": {
      "text/html": [
       "<pre style=\"white-space:pre;overflow-x:auto;line-height:normal;font-family:Menlo,'DejaVu Sans Mono',consolas,'Courier New',monospace\"><span style=\"font-weight: bold\"> Total params: </span><span style=\"color: #00af00; text-decoration-color: #00af00\">12,551</span> (49.03 KB)\n",
       "</pre>\n"
      ],
      "text/plain": [
       "\u001b[1m Total params: \u001b[0m\u001b[38;5;34m12,551\u001b[0m (49.03 KB)\n"
      ]
     },
     "metadata": {},
     "output_type": "display_data"
    },
    {
     "data": {
      "text/html": [
       "<pre style=\"white-space:pre;overflow-x:auto;line-height:normal;font-family:Menlo,'DejaVu Sans Mono',consolas,'Courier New',monospace\"><span style=\"font-weight: bold\"> Trainable params: </span><span style=\"color: #00af00; text-decoration-color: #00af00\">12,551</span> (49.03 KB)\n",
       "</pre>\n"
      ],
      "text/plain": [
       "\u001b[1m Trainable params: \u001b[0m\u001b[38;5;34m12,551\u001b[0m (49.03 KB)\n"
      ]
     },
     "metadata": {},
     "output_type": "display_data"
    },
    {
     "data": {
      "text/html": [
       "<pre style=\"white-space:pre;overflow-x:auto;line-height:normal;font-family:Menlo,'DejaVu Sans Mono',consolas,'Courier New',monospace\"><span style=\"font-weight: bold\"> Non-trainable params: </span><span style=\"color: #00af00; text-decoration-color: #00af00\">0</span> (0.00 B)\n",
       "</pre>\n"
      ],
      "text/plain": [
       "\u001b[1m Non-trainable params: \u001b[0m\u001b[38;5;34m0\u001b[0m (0.00 B)\n"
      ]
     },
     "metadata": {},
     "output_type": "display_data"
    }
   ],
   "source": [
    "lr_schedule = ExponentialDecay(initial_learning_rate=0.0001, decay_steps=10000, decay_rate=0.9)\n",
    "\n",
    "model = Sequential([\n",
    "    Input(shape=(29,)),\n",
    "    Dense(128, activation=\"relu\", kernel_initializer=HeUniform()),\n",
    "    Dropout(0.2),\n",
    "    Dense(64, activation=\"relu\", kernel_initializer=HeUniform()),\n",
    "    Dense(7, activation=\"softmax\")\n",
    "])\n",
    "model.summary()\n",
    "model.compile(optimizer=Adam(learning_rate=lr_schedule), \n",
    "              loss=\"categorical_crossentropy\", \n",
    "              metrics=[F1Score(average='weighted', name='f1_score'),\n",
    "                       \"accuracy\"])\n"
   ]
  },
  {
   "cell_type": "code",
   "execution_count": 90,
   "metadata": {},
   "outputs": [
    {
     "name": "stdout",
     "output_type": "stream",
     "text": [
      "Epoch 1/100\n",
      "\u001b[1m455/455\u001b[0m \u001b[32m━━━━━━━━━━━━━━━━━━━━\u001b[0m\u001b[37m\u001b[0m \u001b[1m1s\u001b[0m 1ms/step - accuracy: 0.2899 - f1_score: 0.2721 - loss: 1.8725 - val_accuracy: 0.6055 - val_f1_score: 0.5723 - val_loss: 1.1589\n",
      "Epoch 2/100\n",
      "\u001b[1m455/455\u001b[0m \u001b[32m━━━━━━━━━━━━━━━━━━━━\u001b[0m\u001b[37m\u001b[0m \u001b[1m1s\u001b[0m 1ms/step - accuracy: 0.5829 - f1_score: 0.5628 - loss: 1.1580 - val_accuracy: 0.6671 - val_f1_score: 0.6494 - val_loss: 0.8907\n",
      "Epoch 3/100\n",
      "\u001b[1m455/455\u001b[0m \u001b[32m━━━━━━━━━━━━━━━━━━━━\u001b[0m\u001b[37m\u001b[0m \u001b[1m0s\u001b[0m 970us/step - accuracy: 0.6425 - f1_score: 0.6291 - loss: 0.9490 - val_accuracy: 0.7119 - val_f1_score: 0.6993 - val_loss: 0.7642\n",
      "Epoch 4/100\n",
      "\u001b[1m455/455\u001b[0m \u001b[32m━━━━━━━━━━━━━━━━━━━━\u001b[0m\u001b[37m\u001b[0m \u001b[1m0s\u001b[0m 978us/step - accuracy: 0.6795 - f1_score: 0.6711 - loss: 0.8223 - val_accuracy: 0.7452 - val_f1_score: 0.7348 - val_loss: 0.6826\n",
      "Epoch 5/100\n",
      "\u001b[1m455/455\u001b[0m \u001b[32m━━━━━━━━━━━━━━━━━━━━\u001b[0m\u001b[37m\u001b[0m \u001b[1m1s\u001b[0m 1ms/step - accuracy: 0.7157 - f1_score: 0.7086 - loss: 0.7369 - val_accuracy: 0.7775 - val_f1_score: 0.7709 - val_loss: 0.6181\n",
      "Epoch 6/100\n",
      "\u001b[1m455/455\u001b[0m \u001b[32m━━━━━━━━━━━━━━━━━━━━\u001b[0m\u001b[37m\u001b[0m \u001b[1m1s\u001b[0m 1ms/step - accuracy: 0.7326 - f1_score: 0.7272 - loss: 0.6881 - val_accuracy: 0.8006 - val_f1_score: 0.7956 - val_loss: 0.5718\n",
      "Epoch 7/100\n",
      "\u001b[1m455/455\u001b[0m \u001b[32m━━━━━━━━━━━━━━━━━━━━\u001b[0m\u001b[37m\u001b[0m \u001b[1m0s\u001b[0m 1ms/step - accuracy: 0.7536 - f1_score: 0.7506 - loss: 0.6441 - val_accuracy: 0.8155 - val_f1_score: 0.8125 - val_loss: 0.5349\n",
      "Epoch 8/100\n",
      "\u001b[1m455/455\u001b[0m \u001b[32m━━━━━━━━━━━━━━━━━━━━\u001b[0m\u001b[37m\u001b[0m \u001b[1m1s\u001b[0m 1ms/step - accuracy: 0.7655 - f1_score: 0.7621 - loss: 0.6027 - val_accuracy: 0.8261 - val_f1_score: 0.8217 - val_loss: 0.5090\n",
      "Epoch 9/100\n",
      "\u001b[1m455/455\u001b[0m \u001b[32m━━━━━━━━━━━━━━━━━━━━\u001b[0m\u001b[37m\u001b[0m \u001b[1m0s\u001b[0m 1ms/step - accuracy: 0.7838 - f1_score: 0.7808 - loss: 0.5709 - val_accuracy: 0.8348 - val_f1_score: 0.8303 - val_loss: 0.4861\n",
      "Epoch 10/100\n",
      "\u001b[1m455/455\u001b[0m \u001b[32m━━━━━━━━━━━━━━━━━━━━\u001b[0m\u001b[37m\u001b[0m \u001b[1m0s\u001b[0m 1ms/step - accuracy: 0.7884 - f1_score: 0.7859 - loss: 0.5591 - val_accuracy: 0.8415 - val_f1_score: 0.8383 - val_loss: 0.4668\n",
      "Epoch 11/100\n",
      "\u001b[1m455/455\u001b[0m \u001b[32m━━━━━━━━━━━━━━━━━━━━\u001b[0m\u001b[37m\u001b[0m \u001b[1m0s\u001b[0m 1ms/step - accuracy: 0.7986 - f1_score: 0.7967 - loss: 0.5410 - val_accuracy: 0.8459 - val_f1_score: 0.8428 - val_loss: 0.4547\n",
      "Epoch 12/100\n",
      "\u001b[1m455/455\u001b[0m \u001b[32m━━━━━━━━━━━━━━━━━━━━\u001b[0m\u001b[37m\u001b[0m \u001b[1m1s\u001b[0m 1ms/step - accuracy: 0.8062 - f1_score: 0.8040 - loss: 0.5025 - val_accuracy: 0.8492 - val_f1_score: 0.8468 - val_loss: 0.4406\n",
      "Epoch 13/100\n",
      "\u001b[1m455/455\u001b[0m \u001b[32m━━━━━━━━━━━━━━━━━━━━\u001b[0m\u001b[37m\u001b[0m \u001b[1m0s\u001b[0m 1ms/step - accuracy: 0.8090 - f1_score: 0.8069 - loss: 0.5026 - val_accuracy: 0.8521 - val_f1_score: 0.8494 - val_loss: 0.4341\n",
      "Epoch 14/100\n",
      "\u001b[1m455/455\u001b[0m \u001b[32m━━━━━━━━━━━━━━━━━━━━\u001b[0m\u001b[37m\u001b[0m \u001b[1m1s\u001b[0m 1ms/step - accuracy: 0.8158 - f1_score: 0.8141 - loss: 0.4870 - val_accuracy: 0.8521 - val_f1_score: 0.8495 - val_loss: 0.4251\n",
      "Epoch 15/100\n",
      "\u001b[1m455/455\u001b[0m \u001b[32m━━━━━━━━━━━━━━━━━━━━\u001b[0m\u001b[37m\u001b[0m \u001b[1m0s\u001b[0m 1ms/step - accuracy: 0.8165 - f1_score: 0.8148 - loss: 0.4875 - val_accuracy: 0.8560 - val_f1_score: 0.8535 - val_loss: 0.4209\n",
      "Epoch 16/100\n",
      "\u001b[1m455/455\u001b[0m \u001b[32m━━━━━━━━━━━━━━━━━━━━\u001b[0m\u001b[37m\u001b[0m \u001b[1m1s\u001b[0m 1ms/step - accuracy: 0.8239 - f1_score: 0.8224 - loss: 0.4765 - val_accuracy: 0.8603 - val_f1_score: 0.8577 - val_loss: 0.4135\n",
      "Epoch 17/100\n",
      "\u001b[1m455/455\u001b[0m \u001b[32m━━━━━━━━━━━━━━━━━━━━\u001b[0m\u001b[37m\u001b[0m \u001b[1m0s\u001b[0m 1ms/step - accuracy: 0.8324 - f1_score: 0.8310 - loss: 0.4575 - val_accuracy: 0.8560 - val_f1_score: 0.8534 - val_loss: 0.4145\n",
      "Epoch 18/100\n",
      "\u001b[1m455/455\u001b[0m \u001b[32m━━━━━━━━━━━━━━━━━━━━\u001b[0m\u001b[37m\u001b[0m \u001b[1m1s\u001b[0m 1ms/step - accuracy: 0.8291 - f1_score: 0.8279 - loss: 0.4574 - val_accuracy: 0.8627 - val_f1_score: 0.8606 - val_loss: 0.4039\n",
      "Epoch 19/100\n",
      "\u001b[1m455/455\u001b[0m \u001b[32m━━━━━━━━━━━━━━━━━━━━\u001b[0m\u001b[37m\u001b[0m \u001b[1m1s\u001b[0m 1ms/step - accuracy: 0.8266 - f1_score: 0.8249 - loss: 0.4594 - val_accuracy: 0.8651 - val_f1_score: 0.8631 - val_loss: 0.4021\n",
      "Epoch 20/100\n",
      "\u001b[1m455/455\u001b[0m \u001b[32m━━━━━━━━━━━━━━━━━━━━\u001b[0m\u001b[37m\u001b[0m \u001b[1m1s\u001b[0m 1ms/step - accuracy: 0.8401 - f1_score: 0.8391 - loss: 0.4464 - val_accuracy: 0.8651 - val_f1_score: 0.8623 - val_loss: 0.4012\n",
      "Epoch 21/100\n",
      "\u001b[1m455/455\u001b[0m \u001b[32m━━━━━━━━━━━━━━━━━━━━\u001b[0m\u001b[37m\u001b[0m \u001b[1m0s\u001b[0m 1ms/step - accuracy: 0.8314 - f1_score: 0.8297 - loss: 0.4376 - val_accuracy: 0.8642 - val_f1_score: 0.8619 - val_loss: 0.3960\n",
      "Epoch 22/100\n",
      "\u001b[1m455/455\u001b[0m \u001b[32m━━━━━━━━━━━━━━━━━━━━\u001b[0m\u001b[37m\u001b[0m \u001b[1m1s\u001b[0m 1ms/step - accuracy: 0.8389 - f1_score: 0.8375 - loss: 0.4385 - val_accuracy: 0.8627 - val_f1_score: 0.8610 - val_loss: 0.4034\n",
      "Epoch 23/100\n",
      "\u001b[1m455/455\u001b[0m \u001b[32m━━━━━━━━━━━━━━━━━━━━\u001b[0m\u001b[37m\u001b[0m \u001b[1m1s\u001b[0m 1ms/step - accuracy: 0.8376 - f1_score: 0.8366 - loss: 0.4413 - val_accuracy: 0.8709 - val_f1_score: 0.8694 - val_loss: 0.3929\n",
      "Epoch 24/100\n",
      "\u001b[1m455/455\u001b[0m \u001b[32m━━━━━━━━━━━━━━━━━━━━\u001b[0m\u001b[37m\u001b[0m \u001b[1m0s\u001b[0m 994us/step - accuracy: 0.8420 - f1_score: 0.8406 - loss: 0.4321 - val_accuracy: 0.8675 - val_f1_score: 0.8652 - val_loss: 0.3958\n",
      "Epoch 25/100\n",
      "\u001b[1m455/455\u001b[0m \u001b[32m━━━━━━━━━━━━━━━━━━━━\u001b[0m\u001b[37m\u001b[0m \u001b[1m1s\u001b[0m 1ms/step - accuracy: 0.8459 - f1_score: 0.8450 - loss: 0.4273 - val_accuracy: 0.8695 - val_f1_score: 0.8676 - val_loss: 0.3892\n",
      "Epoch 26/100\n",
      "\u001b[1m455/455\u001b[0m \u001b[32m━━━━━━━━━━━━━━━━━━━━\u001b[0m\u001b[37m\u001b[0m \u001b[1m0s\u001b[0m 1ms/step - accuracy: 0.8456 - f1_score: 0.8448 - loss: 0.4338 - val_accuracy: 0.8656 - val_f1_score: 0.8632 - val_loss: 0.3906\n",
      "Epoch 27/100\n",
      "\u001b[1m455/455\u001b[0m \u001b[32m━━━━━━━━━━━━━━━━━━━━\u001b[0m\u001b[37m\u001b[0m \u001b[1m0s\u001b[0m 1ms/step - accuracy: 0.8498 - f1_score: 0.8487 - loss: 0.4211 - val_accuracy: 0.8671 - val_f1_score: 0.8648 - val_loss: 0.3890\n",
      "Epoch 28/100\n",
      "\u001b[1m455/455\u001b[0m \u001b[32m━━━━━━━━━━━━━━━━━━━━\u001b[0m\u001b[37m\u001b[0m \u001b[1m1s\u001b[0m 1ms/step - accuracy: 0.8411 - f1_score: 0.8398 - loss: 0.4250 - val_accuracy: 0.8675 - val_f1_score: 0.8654 - val_loss: 0.3888\n"
     ]
    }
   ],
   "source": [
    "callback = EarlyStopping(monitor='val_f1_score', patience=5, min_delta=1e-3, restore_best_weights=True)\n",
    "\n",
    "model.fit(X_train, y_train,\n",
    "          validation_data=(X_val, y_val),\n",
    "          epochs=100,\n",
    "          batch_size=32,\n",
    "          callbacks=[callback])\n",
    "model.save('../../models/obesity_model.keras')"
   ]
  },
  {
   "cell_type": "code",
   "execution_count": 97,
   "metadata": {},
   "outputs": [
    {
     "name": "stdout",
     "output_type": "stream",
     "text": [
      "\u001b[1m130/130\u001b[0m \u001b[32m━━━━━━━━━━━━━━━━━━━━\u001b[0m\u001b[37m\u001b[0m \u001b[1m0s\u001b[0m 768us/step - accuracy: 0.8638 - f1_score: 0.8642 - loss: 0.3843\n",
      "Test Loss: 0.3879\n",
      "Test F1 Score: 0.8665\n",
      "Test Accuracy: 86.68%\n",
      "\u001b[1m130/130\u001b[0m \u001b[32m━━━━━━━━━━━━━━━━━━━━\u001b[0m\u001b[37m\u001b[0m \u001b[1m0s\u001b[0m 443us/step\n",
      "['Obesity_Type_III' 'Overweight_Level_I' 'Obesity_Type_I' ...\n",
      " 'Obesity_Type_I' 'Overweight_Level_I' 'Overweight_Level_II']\n"
     ]
    },
    {
     "data": {
      "image/png": "[encoded data removed]",
      "text/plain": [
       "<Figure size 640x480 with 2 Axes>"
      ]
     },
     "metadata": {},
     "output_type": "display_data"
    }
   ],
   "source": [
    "loss, f1_score, accuracy = model.evaluate(X_test, y_test)\n",
    "\n",
    "print(f\"Test Loss: {loss:.4f}\")\n",
    "print(f\"Test F1 Score: {f1_score:.4f}\")\n",
    "print(f\"Test Accuracy: {accuracy * 100:.2f}%\")\n",
    "\n",
    "# Visualize the predictions\n",
    "y_pred_temp = model.predict(X_test)\n",
    "y_pred_temp = np.argmax(y_pred_temp, axis=1)\n",
    "y_pred_temp = label_encoder.inverse_transform(y_pred_temp)\n",
    "\n",
    "y_test_temp = np.argmax(y_test, axis=1)\n",
    "y_test_temp = label_encoder.inverse_transform(y_test_temp)\n",
    "print(y_test_temp)\n",
    "\n",
    "cm = confusion_matrix(y_test_temp, y_pred_temp)\n",
    "cm_display = ConfusionMatrixDisplay(confusion_matrix=cm, display_labels=label_encoder.classes_)\n",
    "cm_display.plot(cmap='Blues', values_format='d')\n",
    "plt.xticks(rotation=90)\n",
    "plt.title(\"Confusion Matrix\")\n",
    "plt.show()"
   ]
  },
  {
   "cell_type": "code",
   "execution_count": null,
   "metadata": {},
   "outputs": [
    {
     "name": "stdout",
     "output_type": "stream",
     "text": [
      "\u001b[1m1/1\u001b[0m \u001b[32m━━━━━━━━━━━━━━━━━━━━\u001b[0m\u001b[37m\u001b[0m \u001b[1m0s\u001b[0m 39ms/step\n",
      "Overweight_Level_II\n"
     ]
    }
   ],
   "source": [
    "def predict(input):\n",
    "    model = load_model('../../models/obesity_model.keras')\n",
    "\n",
    "    # Check model, encoder, and label encoder existence\n",
    "    PREPROCESSOR_PATH = 'obesity_preprocessor.pkl'\n",
    "    LABEL_ENCODER_PATH = 'obesity_label_encoder.pkl'\n",
    "    if not model:\n",
    "        raise Exception(\"Model not found.\")\n",
    "    if not joblib.load(PREPROCESSOR_PATH):\n",
    "        raise Exception(\"Encoder not found.\")\n",
    "    if not joblib.load(LABEL_ENCODER_PATH):\n",
    "        raise Exception(\"Label encoder not found.\")\n",
    "    \n",
    "    input = pd.DataFrame([input])\n",
    "    input_transformed = preprocess_data(input, target_column=None, mode='test', encoder_path='obesity_preprocessor.pkl', label_encoder_path='obesity_label_encoder.pkl')\n",
    "    y_pred_temp = model.predict(input_transformed)\n",
    "    y_pred_temp = np.argmax(y_pred_temp, axis=1)\n",
    "    y_pred_temp = label_encoder.inverse_transform(y_pred_temp)\n",
    "    return y_pred_temp[0]\n",
    "\n",
    "# Example usage\n",
    "input = {\n",
    "    \"Gender\": \"Male\",\n",
    "    \"Age\": 24.443011,\n",
    "    \"Height\": 1.699998,\n",
    "    \"Weight\": 81.66995,\n",
    "    \"family_history_with_overweight\": \"yes\",\n",
    "    \"FAVC\": \"yes\",\n",
    "    \"CAEC\": \"Sometimes\",\n",
    "    \"NCP\": 2.983297,\n",
    "    \"CH2O\": 2.763573,\n",
    "    \"SMOKE\": \"no\",\n",
    "    \"SCC\": \"no\",\n",
    "    \"FAF\": 0,\n",
    "    \"TUE\": 0.976473,\n",
    "    \"CALC\": \"Sometimes\",\n",
    "    \"MTRANS\": \"Public_Transportation\"\n",
    "}\n",
    "print(predict(input))\n"
   ]
  }
 ],
 "metadata": {
  "kernelspec": {
   "display_name": "Python 3",
   "language": "python",
   "name": "python3"
  },
  "language_info": {
   "codemirror_mode": {
    "name": "ipython",
    "version": 3
   },
   "file_extension": ".py",
   "mimetype": "text/x-python",
   "name": "python",
   "nbconvert_exporter": "python",
   "pygments_lexer": "ipython3",
   "version": "3.10.6"
  }
 },
 "nbformat": 4,
 "nbformat_minor": 2
}
