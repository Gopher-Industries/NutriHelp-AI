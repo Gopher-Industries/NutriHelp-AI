{
  "nbformat": 4,
  "nbformat_minor": 0,
  "metadata": {
    "colab": {
      "provenance": [],
      "gpuType": "A100"
    },
    "kernelspec": {
      "name": "python3",
      "display_name": "Python 3"
    },
    "language_info": {
      "name": "python"
    },
    "accelerator": "GPU"
  },
  "cells": [
    {
      "cell_type": "code",
      "execution_count": 1,
      "metadata": {
        "colab": {
          "base_uri": "https://localhost:8080/"
        },
        "id": "TkKVsmg1gGkh",
        "outputId": "c69e7287-5772-4823-b42d-a624235a4e1b"
      },
      "outputs": [
        {
          "output_type": "stream",
          "name": "stdout",
          "text": [
            "Cloning into 'NutriHelp-AI'...\n",
            "remote: Enumerating objects: 6388, done.\u001b[K\n",
            "remote: Counting objects: 100% (161/161), done.\u001b[K\n",
            "remote: Compressing objects: 100% (71/71), done.\u001b[K\n",
            "remote: Total 6388 (delta 129), reused 116 (delta 90), pack-reused 6227 (from 2)\u001b[K\n",
            "Receiving objects: 100% (6388/6388), 34.73 MiB | 41.99 MiB/s, done.\n",
            "Resolving deltas: 100% (392/392), done.\n"
          ]
        }
      ],
      "source": [
        "!git clone https://github.com/Gopher-Industries/NutriHelp-AI.git"
      ]
    },
    {
      "cell_type": "code",
      "source": [
        "%cd NutriHelp-AI"
      ],
      "metadata": {
        "colab": {
          "base_uri": "https://localhost:8080/"
        },
        "id": "rjvqM_KNg6vt",
        "outputId": "3a9f0ef0-9525-4a5f-fd88-8c6a86d7be90"
      },
      "execution_count": 81,
      "outputs": [
        {
          "output_type": "stream",
          "name": "stdout",
          "text": [
            "[Errno 2] No such file or directory: 'NutriHelp-AI'\n",
            "/content/NutriHelp-AI/2025-T2/Multi-Image-Classifier\n"
          ]
        }
      ]
    },
    {
      "cell_type": "code",
      "source": [
        "%cd 2025-T2/"
      ],
      "metadata": {
        "colab": {
          "base_uri": "https://localhost:8080/"
        },
        "id": "FosURc6jg9-v",
        "outputId": "2ba23202-94a6-4fd0-8e44-1bfc79b4df03"
      },
      "execution_count": 82,
      "outputs": [
        {
          "output_type": "stream",
          "name": "stdout",
          "text": [
            "[Errno 2] No such file or directory: '2025-T2/'\n",
            "/content/NutriHelp-AI/2025-T2/Multi-Image-Classifier\n"
          ]
        }
      ]
    },
    {
      "cell_type": "code",
      "source": [
        "%cd Multi-Image-Classifier/"
      ],
      "metadata": {
        "colab": {
          "base_uri": "https://localhost:8080/"
        },
        "id": "PNjk24ajhc0x",
        "outputId": "7ad16d72-9f4e-4a18-98f1-e194d81f603d"
      },
      "execution_count": 83,
      "outputs": [
        {
          "output_type": "stream",
          "name": "stdout",
          "text": [
            "[Errno 2] No such file or directory: 'Multi-Image-Classifier/'\n",
            "/content/NutriHelp-AI/2025-T2/Multi-Image-Classifier\n"
          ]
        }
      ]
    },
    {
      "cell_type": "code",
      "source": [
        "from google.colab import drive\n",
        "drive.mount('/content/drive', force_remount=True)"
      ],
      "metadata": {
        "colab": {
          "base_uri": "https://localhost:8080/"
        },
        "id": "Dqg-qwJLhfi8",
        "outputId": "29184123-6b68-4e72-fb47-0cc5f9d851db"
      },
      "execution_count": 5,
      "outputs": [
        {
          "output_type": "stream",
          "name": "stdout",
          "text": [
            "Mounted at /content/drive\n"
          ]
        }
      ]
    },
    {
      "cell_type": "code",
      "source": [
        "!cp -r \"/content/drive/My Drive/Images\" \"/content/NutriHelp-AI/2025-T2/Multi-Image-Classifier/scripts/VFN\""
      ],
      "metadata": {
        "id": "iR83Drl6iRIq"
      },
      "execution_count": 6,
      "outputs": []
    },
    {
      "cell_type": "code",
      "source": [
        "%cd scripts/"
      ],
      "metadata": {
        "colab": {
          "base_uri": "https://localhost:8080/"
        },
        "id": "CFBYbkcq1God",
        "outputId": "6cbb0e21-33c5-4386-87cb-8796b18419a1"
      },
      "execution_count": 84,
      "outputs": [
        {
          "output_type": "stream",
          "name": "stdout",
          "text": [
            "/content/NutriHelp-AI/2025-T2/Multi-Image-Classifier/scripts\n"
          ]
        }
      ]
    },
    {
      "cell_type": "code",
      "source": [
        "%cd training/"
      ],
      "metadata": {
        "colab": {
          "base_uri": "https://localhost:8080/"
        },
        "id": "r0Q_Xmit1MAy",
        "outputId": "4fbf25a6-65e9-483f-d863-06e361199613"
      },
      "execution_count": 85,
      "outputs": [
        {
          "output_type": "stream",
          "name": "stdout",
          "text": [
            "/content/NutriHelp-AI/2025-T2/Multi-Image-Classifier/scripts/training\n"
          ]
        }
      ]
    },
    {
      "cell_type": "code",
      "source": [
        "!pip -q install timm==1.0.9"
      ],
      "metadata": {
        "id": "yc7jDabhKX2N"
      },
      "execution_count": 86,
      "outputs": []
    },
    {
      "cell_type": "code",
      "source": [
        "!python train.py \\\n",
        "  --processed_dir scripts/processed \\\n",
        "  --vfn_root scripts/VFN \\\n",
        "  --weights_dir \"\" \\\n",
        "  --model_name convnext_tiny \\\n",
        "  --batch_size 64 \\\n",
        "  --image_size 320 \\\n",
        "  --epochs 80 \\\n",
        "  --warmup_epochs 5 \\\n",
        "  --lr 5e-4 \\\n",
        "  --use_ema \\\n",
        "  --use_mixcut \\\n",
        "  --loss bce\n"
      ],
      "metadata": {
        "colab": {
          "base_uri": "https://localhost:8080/"
        },
        "id": "T1mb4RYBikFK",
        "outputId": "abe0a264-b480-4658-aeff-5400478dc2ad"
      },
      "execution_count": 87,
      "outputs": [
        {
          "output_type": "stream",
          "name": "stdout",
          "text": [
            "/usr/local/lib/python3.12/dist-packages/torch/optim/lr_scheduler.py:192: UserWarning: Detected call of `lr_scheduler.step()` before `optimizer.step()`. In PyTorch 1.1.0 and later, you should call them in the opposite order: `optimizer.step()` before `lr_scheduler.step()`.  Failure to do this will result in PyTorch skipping the first value of the learning rate schedule. See more details at https://pytorch.org/docs/stable/optim.html#how-to-adjust-learning-rate\n",
            "  warnings.warn(\n",
            "Epoch 001/80 | loss 0.8256 | Val_F1 0.0305 | Val_Acc 0.5389\n",
            "Epoch 002/80 | loss 0.5076 | Val_F1 0.0356 | Val_Acc 0.5843\n",
            "Epoch 003/80 | loss 0.4262 | Val_F1 0.0439 | Val_Acc 0.6410\n",
            "Epoch 004/80 | loss 0.4357 | Val_F1 0.0584 | Val_Acc 0.7013\n",
            "Epoch 005/80 | loss 0.4421 | Val_F1 0.0798 | Val_Acc 0.7609\n",
            "Epoch 006/80 | loss 0.4339 | Val_F1 0.1070 | Val_Acc 0.8135\n",
            "Epoch 007/80 | loss 0.3865 | Val_F1 0.1440 | Val_Acc 0.8580\n",
            "Epoch 008/80 | loss 0.3557 | Val_F1 0.1854 | Val_Acc 0.8914\n",
            "Epoch 009/80 | loss 0.3736 | Val_F1 0.2336 | Val_Acc 0.9163\n",
            "Epoch 010/80 | loss 0.3325 | Val_F1 0.2814 | Val_Acc 0.9338\n",
            "Epoch 011/80 | loss 0.2854 | Val_F1 0.3292 | Val_Acc 0.9463\n",
            "Epoch 012/80 | loss 0.2917 | Val_F1 0.3640 | Val_Acc 0.9536\n",
            "Epoch 013/80 | loss 0.2654 | Val_F1 0.3940 | Val_Acc 0.9591\n",
            "Epoch 014/80 | loss 0.1887 | Val_F1 0.4202 | Val_Acc 0.9633\n",
            "Epoch 015/80 | loss 0.2144 | Val_F1 0.4449 | Val_Acc 0.9668\n",
            "Epoch 016/80 | loss 0.1848 | Val_F1 0.4663 | Val_Acc 0.9696\n",
            "Epoch 017/80 | loss 0.1647 | Val_F1 0.4812 | Val_Acc 0.9714\n",
            "Epoch 018/80 | loss 0.1774 | Val_F1 0.4953 | Val_Acc 0.9729\n",
            "Epoch 019/80 | loss 0.1768 | Val_F1 0.5091 | Val_Acc 0.9744\n",
            "Epoch 020/80 | loss 0.1789 | Val_F1 0.5225 | Val_Acc 0.9758\n",
            "Epoch 021/80 | loss 0.1774 | Val_F1 0.5346 | Val_Acc 0.9770\n",
            "Epoch 022/80 | loss 0.1412 | Val_F1 0.5447 | Val_Acc 0.9779\n",
            "Epoch 023/80 | loss 0.1815 | Val_F1 0.5516 | Val_Acc 0.9786\n",
            "Epoch 024/80 | loss 0.1680 | Val_F1 0.5613 | Val_Acc 0.9795\n",
            "Epoch 025/80 | loss 0.1578 | Val_F1 0.5696 | Val_Acc 0.9803\n",
            "Epoch 026/80 | loss 0.1386 | Val_F1 0.5815 | Val_Acc 0.9813\n",
            "Epoch 027/80 | loss 0.1333 | Val_F1 0.5913 | Val_Acc 0.9821\n",
            "Epoch 028/80 | loss 0.1701 | Val_F1 0.5973 | Val_Acc 0.9826\n",
            "Epoch 029/80 | loss 0.1508 | Val_F1 0.6058 | Val_Acc 0.9832\n",
            "Epoch 030/80 | loss 0.1781 | Val_F1 0.6122 | Val_Acc 0.9837\n",
            "Epoch 031/80 | loss 0.1624 | Val_F1 0.6192 | Val_Acc 0.9842\n",
            "Epoch 032/80 | loss 0.1741 | Val_F1 0.6227 | Val_Acc 0.9845\n",
            "Epoch 033/80 | loss 0.1332 | Val_F1 0.6273 | Val_Acc 0.9849\n",
            "Epoch 034/80 | loss 0.1363 | Val_F1 0.6318 | Val_Acc 0.9852\n",
            "Epoch 035/80 | loss 0.1400 | Val_F1 0.6377 | Val_Acc 0.9855\n",
            "Epoch 036/80 | loss 0.1796 | Val_F1 0.6422 | Val_Acc 0.9859\n",
            "Epoch 037/80 | loss 0.1581 | Val_F1 0.6451 | Val_Acc 0.9861\n",
            "Epoch 038/80 | loss 0.1331 | Val_F1 0.6509 | Val_Acc 0.9865\n",
            "Epoch 039/80 | loss 0.1694 | Val_F1 0.6547 | Val_Acc 0.9868\n",
            "Epoch 040/80 | loss 0.1549 | Val_F1 0.6596 | Val_Acc 0.9871\n",
            "Epoch 041/80 | loss 0.1377 | Val_F1 0.6661 | Val_Acc 0.9876\n",
            "Epoch 042/80 | loss 0.1203 | Val_F1 0.6685 | Val_Acc 0.9877\n",
            "Epoch 043/80 | loss 0.1118 | Val_F1 0.6724 | Val_Acc 0.9880\n",
            "Epoch 044/80 | loss 0.1246 | Val_F1 0.6772 | Val_Acc 0.9883\n",
            "Epoch 045/80 | loss 0.1170 | Val_F1 0.6782 | Val_Acc 0.9884\n",
            "Epoch 046/80 | loss 0.1301 | Val_F1 0.6829 | Val_Acc 0.9887\n",
            "Epoch 047/80 | loss 0.1248 | Val_F1 0.6881 | Val_Acc 0.9890\n",
            "Epoch 048/80 | loss 0.1229 | Val_F1 0.6907 | Val_Acc 0.9892\n",
            "Epoch 049/80 | loss 0.1275 | Val_F1 0.6933 | Val_Acc 0.9894\n",
            "Epoch 050/80 | loss 0.1015 | Val_F1 0.6954 | Val_Acc 0.9895\n",
            "Epoch 051/80 | loss 0.1076 | Val_F1 0.6979 | Val_Acc 0.9897\n",
            "Epoch 052/80 | loss 0.0992 | Val_F1 0.7005 | Val_Acc 0.9899\n",
            "Epoch 053/80 | loss 0.1017 | Val_F1 0.7041 | Val_Acc 0.9901\n",
            "Epoch 054/80 | loss 0.1348 | Val_F1 0.7053 | Val_Acc 0.9901\n",
            "Epoch 055/80 | loss 0.1087 | Val_F1 0.7062 | Val_Acc 0.9902\n",
            "Epoch 056/80 | loss 0.1177 | Val_F1 0.7101 | Val_Acc 0.9904\n",
            "Epoch 057/80 | loss 0.0873 | Val_F1 0.7111 | Val_Acc 0.9905\n",
            "Epoch 058/80 | loss 0.1119 | Val_F1 0.7141 | Val_Acc 0.9906\n",
            "Epoch 059/80 | loss 0.1002 | Val_F1 0.7159 | Val_Acc 0.9908\n",
            "Epoch 060/80 | loss 0.1276 | Val_F1 0.7175 | Val_Acc 0.9909\n",
            "Epoch 061/80 | loss 0.1090 | Val_F1 0.7186 | Val_Acc 0.9910\n",
            "Epoch 062/80 | loss 0.1161 | Val_F1 0.7188 | Val_Acc 0.9910\n",
            "Epoch 063/80 | loss 0.1238 | Val_F1 0.7206 | Val_Acc 0.9911\n",
            "Epoch 064/80 | loss 0.0886 | Val_F1 0.7231 | Val_Acc 0.9912\n",
            "Epoch 065/80 | loss 0.1186 | Val_F1 0.7235 | Val_Acc 0.9913\n",
            "Epoch 066/80 | loss 0.1019 | Val_F1 0.7244 | Val_Acc 0.9913\n",
            "Epoch 067/80 | loss 0.1185 | Val_F1 0.7236 | Val_Acc 0.9914\n",
            "Epoch 068/80 | loss 0.0982 | Val_F1 0.7236 | Val_Acc 0.9914\n",
            "Epoch 069/80 | loss 0.1045 | Val_F1 0.7242 | Val_Acc 0.9915\n",
            "Epoch 070/80 | loss 0.1095 | Val_F1 0.7255 | Val_Acc 0.9915\n",
            "Epoch 071/80 | loss 0.1007 | Val_F1 0.7253 | Val_Acc 0.9915\n",
            "Epoch 072/80 | loss 0.1228 | Val_F1 0.7257 | Val_Acc 0.9916\n",
            "Epoch 073/80 | loss 0.1040 | Val_F1 0.7261 | Val_Acc 0.9916\n",
            "Epoch 074/80 | loss 0.0971 | Val_F1 0.7269 | Val_Acc 0.9917\n",
            "Epoch 075/80 | loss 0.1145 | Val_F1 0.7269 | Val_Acc 0.9917\n",
            "Epoch 076/80 | loss 0.0942 | Val_F1 0.7270 | Val_Acc 0.9918\n",
            "Epoch 077/80 | loss 0.1105 | Val_F1 0.7269 | Val_Acc 0.9918\n",
            "Epoch 078/80 | loss 0.0948 | Val_F1 0.7270 | Val_Acc 0.9918\n",
            "Epoch 079/80 | loss 0.0898 | Val_F1 0.7268 | Val_Acc 0.9918\n",
            "Epoch 080/80 | loss 0.1050 | Val_F1 0.7258 | Val_Acc 0.9918\n",
            "Done in 65.2 min. Best Val F1_micro: 0.7270\n",
            "\n",
            "Final Train: F1_micro=0.9965, Acc=0.9999\n",
            "Final Test : F1_micro=0.7308, Acc=0.9919\n",
            "Saved FINAL model to: /content/NutriHelp-AI/models/multi_image_classifier.pt\n"
          ]
        }
      ]
    },
    {
      "cell_type": "code",
      "source": [
        "!python find_thresholds.py \\\n",
        "  --processed_dir scripts/processed \\\n",
        "  --vfn_root scripts/VFN \\\n",
        "  --weights_dir \"\" \\\n",
        "  --batch_size 64 \\\n",
        "  --image_size 320"
      ],
      "metadata": {
        "colab": {
          "base_uri": "https://localhost:8080/"
        },
        "id": "n7gMSoMEoi-V",
        "outputId": "1cfd88a5-895d-4bab-f720-48abe7e44649"
      },
      "execution_count": 88,
      "outputs": [
        {
          "output_type": "stream",
          "name": "stdout",
          "text": [
            "Saved per-class thresholds to /content/NutriHelp-AI/2025-T2/Multi-Image-Classifier/scripts/processed/best_thresholds.json\n"
          ]
        }
      ]
    },
    {
      "cell_type": "code",
      "source": [
        "!cp -r \"/content/drive/My Drive/test.png\" \"/content/NutriHelp-AI/2025-T2/Multi-Image-Classifier/scripts/training\""
      ],
      "metadata": {
        "id": "xPYNsURQpRoF"
      },
      "execution_count": 89,
      "outputs": []
    },
    {
      "cell_type": "code",
      "source": [
        "!python predict.py \\\n",
        "  --processed_dir scripts/processed \\\n",
        "  --weights_dir \"\" \\\n",
        "  --images \"test.png\" \\\n",
        "  --topk 5"
      ],
      "metadata": {
        "colab": {
          "base_uri": "https://localhost:8080/"
        },
        "id": "Mqp8S7M6zfKk",
        "outputId": "04a6f9c5-6323-46d3-f41c-95b9210cb257"
      },
      "execution_count": 95,
      "outputs": [
        {
          "output_type": "stream",
          "name": "stdout",
          "text": [
            "\n",
            "test.png\n",
            "  labels: ['cabbage', 'french_fries', 'steak']\n",
            "  confs : [0.957, 1.0, 0.962]\n"
          ]
        }
      ]
    },
    {
      "cell_type": "code",
      "source": [
        "!cp -r \"/content/drive/My Drive/test1.png\" \"/content/NutriHelp-AI/2025-T2/Multi-Image-Classifier/scripts/training\""
      ],
      "metadata": {
        "id": "p-UUIs_A0hdR"
      },
      "execution_count": 139,
      "outputs": []
    },
    {
      "cell_type": "code",
      "source": [
        "!python predict.py \\\n",
        "  --processed_dir scripts/processed \\\n",
        "  --weights_dir \"\" \\\n",
        "  --images \"test1.png\" \\\n",
        "  --topk 5"
      ],
      "metadata": {
        "colab": {
          "base_uri": "https://localhost:8080/"
        },
        "id": "cjVk7KF40p98",
        "outputId": "0e368d3c-20af-4fb4-ac60-817c54f4e2ef"
      },
      "execution_count": 140,
      "outputs": [
        {
          "output_type": "stream",
          "name": "stdout",
          "text": [
            "\n",
            "test1.png\n",
            "  labels: ['burrito', 'chips', 'taco']\n",
            "  confs : [0.878, 0.999, 0.921]\n"
          ]
        }
      ]
    },
    {
      "cell_type": "code",
      "source": [
        "!cp -r \"/content/drive/My Drive/test2.png\" \"/content/NutriHelp-AI/2025-T2/Multi-Image-Classifier/scripts/training\""
      ],
      "metadata": {
        "id": "RnIoAxc80zTr"
      },
      "execution_count": 99,
      "outputs": []
    },
    {
      "cell_type": "code",
      "source": [
        "!python predict.py \\\n",
        "  --processed_dir scripts/processed \\\n",
        "  --weights_dir \"\" \\\n",
        "  --images \"test2.png\" \\\n",
        "  --topk 5"
      ],
      "metadata": {
        "colab": {
          "base_uri": "https://localhost:8080/"
        },
        "id": "rGjUvw7B1HqK",
        "outputId": "5e6cd7b8-28a4-4942-ecfd-d532014df014"
      },
      "execution_count": 100,
      "outputs": [
        {
          "output_type": "stream",
          "name": "stdout",
          "text": [
            "\n",
            "test2.png\n",
            "  labels: ['french_fries']\n",
            "  confs : [0.777]\n"
          ]
        }
      ]
    },
    {
      "cell_type": "code",
      "source": [
        "!cp -r \"/content/drive/My Drive/test3.png\" \"/content/NutriHelp-AI/2025-T2/Multi-Image-Classifier/scripts/training\""
      ],
      "metadata": {
        "id": "-F6AqS9G3S_v"
      },
      "execution_count": 108,
      "outputs": []
    },
    {
      "cell_type": "code",
      "source": [
        "!python predict.py \\\n",
        "  --processed_dir scripts/processed \\\n",
        "  --weights_dir \"\" \\\n",
        "  --images \"test3.png\" \\\n",
        "  --topk 5"
      ],
      "metadata": {
        "colab": {
          "base_uri": "https://localhost:8080/"
        },
        "id": "gl4W-lUj4Yov",
        "outputId": "9f2d85bf-4325-4c7f-ec97-afd869cc59ee"
      },
      "execution_count": 109,
      "outputs": [
        {
          "output_type": "stream",
          "name": "stdout",
          "text": [
            "\n",
            "test3.png\n",
            "  labels: ['pasta']\n",
            "  confs : [1.0]\n"
          ]
        }
      ]
    },
    {
      "cell_type": "code",
      "source": [
        "!cp -r \"/content/drive/My Drive/test4.png\" \"/content/NutriHelp-AI/2025-T2/Multi-Image-Classifier/scripts/training\""
      ],
      "metadata": {
        "id": "Uzm0i_WH4c7p"
      },
      "execution_count": 110,
      "outputs": []
    },
    {
      "cell_type": "code",
      "source": [
        "!python predict.py \\\n",
        "  --processed_dir scripts/processed \\\n",
        "  --weights_dir \"\" \\\n",
        "  --images \"test4.png\" \\\n",
        "  --topk 5"
      ],
      "metadata": {
        "colab": {
          "base_uri": "https://localhost:8080/"
        },
        "id": "_BWoEt7K43eH",
        "outputId": "c33330b3-cfc4-45c2-f6d5-b665a3574923"
      },
      "execution_count": 111,
      "outputs": [
        {
          "output_type": "stream",
          "name": "stdout",
          "text": [
            "\n",
            "test4.png\n",
            "  labels: ['bagel', 'shrimp']\n",
            "  confs : [0.996, 0.81]\n"
          ]
        }
      ]
    },
    {
      "cell_type": "code",
      "source": [
        "!cp -r \"/content/drive/My Drive/test5.png\" \"/content/NutriHelp-AI/2025-T2/Multi-Image-Classifier/scripts/training\""
      ],
      "metadata": {
        "id": "DftNpIAA5hwP"
      },
      "execution_count": 112,
      "outputs": []
    },
    {
      "cell_type": "code",
      "source": [
        "!python predict.py \\\n",
        "  --processed_dir scripts/processed \\\n",
        "  --weights_dir \"\" \\\n",
        "  --images \"test5.png\" \\\n",
        "  --topk 5"
      ],
      "metadata": {
        "colab": {
          "base_uri": "https://localhost:8080/"
        },
        "id": "CwEx844c5k6y",
        "outputId": "1e920456-cae7-4269-b6e6-d05665a33f72"
      },
      "execution_count": 113,
      "outputs": [
        {
          "output_type": "stream",
          "name": "stdout",
          "text": [
            "\n",
            "test5.png\n",
            "  labels: ['red_wine', 'steak']\n",
            "  confs : [0.994, 0.972]\n"
          ]
        }
      ]
    },
    {
      "cell_type": "code",
      "source": [
        "!cp -r \"/content/drive/My Drive/test6.png\" \"/content/NutriHelp-AI/2025-T2/Multi-Image-Classifier/scripts/training\""
      ],
      "metadata": {
        "id": "Kp8MIYgO7Jwy"
      },
      "execution_count": 127,
      "outputs": []
    },
    {
      "cell_type": "code",
      "source": [
        "!python predict.py \\\n",
        "  --processed_dir scripts/processed \\\n",
        "  --weights_dir \"\" \\\n",
        "  --images \"test6.png\" \\\n",
        "  --topk 5"
      ],
      "metadata": {
        "colab": {
          "base_uri": "https://localhost:8080/"
        },
        "id": "Xyukm5u_7M3J",
        "outputId": "aeea4193-23ed-4648-f9e9-778de3fc047c"
      },
      "execution_count": 128,
      "outputs": [
        {
          "output_type": "stream",
          "name": "stdout",
          "text": [
            "\n",
            "test6.png\n",
            "  labels: ['chips', 'strawberries']\n",
            "  confs : [0.968, 0.99]\n"
          ]
        }
      ]
    },
    {
      "cell_type": "code",
      "source": [
        "!cp -r \"/content/drive/My Drive/test7.jpg\" \"/content/NutriHelp-AI/2025-T2/Multi-Image-Classifier/scripts/training\""
      ],
      "metadata": {
        "id": "P-fbuWSx9ept"
      },
      "execution_count": 137,
      "outputs": []
    },
    {
      "cell_type": "code",
      "source": [
        "!python predict.py \\\n",
        "  --processed_dir scripts/processed \\\n",
        "  --weights_dir \"\" \\\n",
        "  --images \"test7.jpg\" \\\n",
        "  --topk 5"
      ],
      "metadata": {
        "colab": {
          "base_uri": "https://localhost:8080/"
        },
        "id": "0P0egBtU-DGt",
        "outputId": "69f7a1cc-1d9f-4294-f0c2-f8c847e35a9d"
      },
      "execution_count": 138,
      "outputs": [
        {
          "output_type": "stream",
          "name": "stdout",
          "text": [
            "\n",
            "test7.jpg\n",
            "  labels: ['soup', 'yeast_bread']\n",
            "  confs : [1.0, 1.0]\n"
          ]
        }
      ]
    },
    {
      "cell_type": "code",
      "source": [
        "!cp -r \"/content/drive/My Drive/test8.jpeg\" \"/content/NutriHelp-AI/2025-T2/Multi-Image-Classifier/scripts/training\""
      ],
      "metadata": {
        "id": "xi5bwkN9AS4t"
      },
      "execution_count": 151,
      "outputs": []
    },
    {
      "cell_type": "code",
      "source": [
        "!python predict.py \\\n",
        "  --processed_dir scripts/processed \\\n",
        "  --weights_dir \"\" \\\n",
        "  --images \"test8.jpeg\" \\\n",
        "  --topk 5"
      ],
      "metadata": {
        "colab": {
          "base_uri": "https://localhost:8080/"
        },
        "id": "xrVF0I8eAXE9",
        "outputId": "84ae2ef0-3058-4477-e2e2-24aa9a7c302d"
      },
      "execution_count": 152,
      "outputs": [
        {
          "output_type": "stream",
          "name": "stdout",
          "text": [
            "\n",
            "test8.jpeg\n",
            "  labels: ['doughnut']\n",
            "  confs : [0.962]\n"
          ]
        }
      ]
    },
    {
      "cell_type": "code",
      "source": [
        "!cp -r \"/content/drive/My Drive/test9.jpeg\" \"/content/NutriHelp-AI/2025-T2/Multi-Image-Classifier/scripts/training\""
      ],
      "metadata": {
        "id": "0gOOS9OcBaTo"
      },
      "execution_count": 156,
      "outputs": []
    },
    {
      "cell_type": "code",
      "source": [
        "!python predict.py \\\n",
        "  --processed_dir scripts/processed \\\n",
        "  --weights_dir \"\" \\\n",
        "  --images \"test9.jpeg\" \\\n",
        "  --topk 5"
      ],
      "metadata": {
        "colab": {
          "base_uri": "https://localhost:8080/"
        },
        "id": "bEKHt1f0CNMm",
        "outputId": "b4d42d3c-a802-4174-f895-2c58520666c6"
      },
      "execution_count": 157,
      "outputs": [
        {
          "output_type": "stream",
          "name": "stdout",
          "text": [
            "\n",
            "test9.jpeg\n",
            "  labels: ['chicken_nugget', 'hash_brown']\n",
            "  confs : [0.995, 0.861]\n"
          ]
        }
      ]
    },
    {
      "cell_type": "code",
      "source": [
        "!cp -r \"/content/drive/My Drive/test10.jpeg\" \"/content/NutriHelp-AI/2025-T2/Multi-Image-Classifier/scripts/training\""
      ],
      "metadata": {
        "id": "VdNRASjJDtX_"
      },
      "execution_count": 162,
      "outputs": []
    },
    {
      "cell_type": "code",
      "source": [
        "!python predict.py \\\n",
        "  --processed_dir scripts/processed \\\n",
        "  --weights_dir \"\" \\\n",
        "  --images \"test10.jpeg\" \\\n",
        "  --topk 5"
      ],
      "metadata": {
        "colab": {
          "base_uri": "https://localhost:8080/"
        },
        "id": "FUq2xStxD56T",
        "outputId": "efa24f3a-d445-4039-c43e-58f70df7a63a"
      },
      "execution_count": 163,
      "outputs": [
        {
          "output_type": "stream",
          "name": "stdout",
          "text": [
            "\n",
            "test10.jpeg\n",
            "  labels: ['fried_egg', 'fried_rice']\n",
            "  confs : [1.0, 0.565]\n"
          ]
        }
      ]
    },
    {
      "cell_type": "code",
      "source": [
        "!cp -r \"/content/drive/My Drive/test11.jpeg\" \"/content/NutriHelp-AI/2025-T2/Multi-Image-Classifier/scripts/training\""
      ],
      "metadata": {
        "id": "6y9lDlYkFDIk"
      },
      "execution_count": 169,
      "outputs": []
    },
    {
      "cell_type": "code",
      "source": [
        "!python predict.py \\\n",
        "  --processed_dir scripts/processed \\\n",
        "  --weights_dir \"\" \\\n",
        "  --images \"test11.jpeg\" \\\n",
        "  --topk 5"
      ],
      "metadata": {
        "colab": {
          "base_uri": "https://localhost:8080/"
        },
        "id": "VHFeNadfFwmF",
        "outputId": "8092b486-f3ed-4e23-d3ec-d7e247a435ef"
      },
      "execution_count": 170,
      "outputs": [
        {
          "output_type": "stream",
          "name": "stdout",
          "text": [
            "\n",
            "test11.jpeg\n",
            "  labels: ['soup']\n",
            "  confs : [1.0]\n"
          ]
        }
      ]
    }
  ]
}